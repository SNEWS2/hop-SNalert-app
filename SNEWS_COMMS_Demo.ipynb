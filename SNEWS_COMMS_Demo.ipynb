{
 "cells": [
  {
   "cell_type": "markdown",
   "id": "ac6c98ae",
   "metadata": {},
   "source": [
    "Before you start, on a terminal follow these instructions; <br>\n",
    "\n",
    "make sure you have `ipyparallel` installed <br>\n",
    "    - `conda install ipyparallel` <br>\n",
    "and IPython cluster tab is enabled. <br>\n",
    "    - `ipcluster nbextension enable -n 2`<br>\n",
    "lastly, start parallel kernels <br>\n",
    "    - `ipcluster start -n 5`"
   ]
  },
  {
   "cell_type": "code",
   "execution_count": null,
   "id": "726cff4d-1b6e-4bb1-ac81-8cdd1b434368",
   "metadata": {},
   "outputs": [],
   "source": [
    "# Import ipyipyparallel and set up the Client\n",
    "from ipyparallel import Client\n",
    "\n",
    "rc = Client()"
   ]
  },
  {
   "cell_type": "markdown",
   "id": "d5474144-9180-45c7-864d-9b2ec5feb579",
   "metadata": {},
   "source": [
    "# Set up Subscription Calls"
   ]
  },
  {
   "cell_type": "code",
   "execution_count": null,
   "id": "53e52f97-835f-4877-a20e-65eea90fc300",
   "metadata": {},
   "outputs": [],
   "source": [
    "%%px -a -t 0\n",
    "\n",
    "from hop_comms.hop_sub import HopSubscribe\n",
    "    \n",
    "\n",
    "sub = HopSubscribe()\n",
    "\n",
    "\n",
    "sub.subscribe(which_topic=\"O\")"
   ]
  },
  {
   "cell_type": "code",
   "execution_count": null,
   "id": "ae0d3177-bc94-47ca-980f-33612952bd93",
   "metadata": {},
   "outputs": [],
   "source": [
    "%%px -a -t 1\n",
    "from hop_comms.hop_sub import HopSubscribe\n",
    "\n",
    "sub = HopSubscribe()\n",
    "\n",
    "\n",
    "sub.subscribe(which_topic=\"A\")"
   ]
  },
  {
   "cell_type": "markdown",
   "id": "3cd84fd4-2b58-4ef9-a1f0-7227286939f0",
   "metadata": {},
   "source": [
    "# Run Dummy Pub"
   ]
  },
  {
   "cell_type": "code",
   "execution_count": null,
   "id": "04a3ae6e-b351-409d-9416-8baf2683f1ba",
   "metadata": {
    "tags": []
   },
   "outputs": [],
   "source": [
    "%%px -a -t 2\n",
    "\n",
    "from datetime import datetime\n",
    "import time\n",
    "from hop_comms.hop_pub import Publish_Tier_Obs\n",
    "from hop_comms.snews_utils import data_obs\n",
    "\n",
    "def nu_t():\n",
    "    return datetime.utcnow().strftime(\"%H:%M:%S:%f\")\n",
    "\n",
    "\n",
    "def machine_t():\n",
    "    return datetime.utcnow().strftime(\"%H:%M:%S:%f\")\n",
    "\n",
    "time.sleep(1)\n",
    "\n",
    "pub = Publish_Tier_Obs()\n",
    "\n",
    "DS_data = data_obs(p_value=0.56, nu_time=nu_t(), machine_time=machine_t())\n",
    "pub.publish(\"DS-20K\", \"CoincidenceTier\", DS_data)\n",
    "\n",
    "time.sleep(0.2)\n",
    "\n",
    "LZ_data = data_obs(p_value=0.67, nu_time=nu_t(), machine_time=machine_t())\n",
    "pub.publish(\"LZ\", \"CoincidenceTier\", LZ_data)\n",
    "\n",
    "time.sleep(0.6)\n",
    "\n",
    "JUNO_data = data_obs(p_value=0.77, nu_time=nu_t(), machine_time=machine_t())\n",
    "pub.publish(\"JUNO\", \"CoincidenceTier\", JUNO_data)\n",
    "\n",
    "time.sleep(0.1)\n",
    "\n",
    "SNO_data = data_obs(p_value=0.47, nu_time=nu_t(), machine_time=machine_t())\n",
    "pub.publish(\"SNO+\", \"CoincidenceTier\", SNO_data)\n",
    "\n",
    "time.sleep(1)\n",
    "\n",
    "DUNE_data = data_obs(p_value=0.55, nu_time=nu_t(), machine_time=machine_t())\n",
    "pub.publish(\"DUNE\", \"CoincidenceTier\", DUNE_data)\n",
    "\n",
    "time.sleep(8)\n",
    "\n",
    "SuperK_data = data_obs(p_value=0.67, nu_time=nu_t())\n",
    "pub.publish(\"Super-K\", \"CoincidenceTier\", SuperK_data)"
   ]
  },
  {
   "cell_type": "markdown",
   "id": "3c85e30c-19ba-41f9-a6d1-ac2cfb0aa8c3",
   "metadata": {},
   "source": [
    "# Set up Coincidence Check"
   ]
  },
  {
   "cell_type": "code",
   "execution_count": null,
   "id": "8a5c73c5-bc81-4f4f-9c33-e0467852bb33",
   "metadata": {},
   "outputs": [],
   "source": [
    "%%px -a -t 3\n",
    "\n",
    "from hop_comms.snews_coinc import CoincDecider\n",
    "\n",
    "\n",
    "coinc = CoincDecider()\n",
    "coinc.run_coincidence()"
   ]
  },
  {
   "cell_type": "code",
   "execution_count": null,
   "id": "8f9f0f93-0e42-4c5e-aaea-72195cfe95d1",
   "metadata": {},
   "outputs": [],
   "source": [
    "%%px -a -t 4\n",
    "\n",
    "\n",
    "from hop_comms.snews_retract import Retraction\n",
    "retraction = Retraction()\n",
    "retraction.check_for_false()"
   ]
  },
  {
   "cell_type": "code",
   "execution_count": null,
   "id": "0425cf24",
   "metadata": {},
   "outputs": [],
   "source": [
    "%pxresult"
   ]
  },
  {
   "cell_type": "code",
   "execution_count": null,
   "id": "3922e5cf-3faa-4055-bedd-6f205a1a64e2",
   "metadata": {},
   "outputs": [],
   "source": [
    "from hop_comms import snews_utils\n",
    "from hop_comms.hop_pub import Publish_Tier_Obs"
   ]
  },
  {
   "cell_type": "code",
   "execution_count": null,
   "id": "71300306-5fb3-4ab0-80ec-40491e1dc0c9",
   "metadata": {},
   "outputs": [],
   "source": []
  }
 ],
 "metadata": {
  "kernelspec": {
   "display_name": "Python 3",
   "language": "python",
   "name": "python3"
  },
  "language_info": {
   "codemirror_mode": {
    "name": "ipython",
    "version": 3
   },
   "file_extension": ".py",
   "mimetype": "text/x-python",
   "name": "python",
   "nbconvert_exporter": "python",
   "pygments_lexer": "ipython3",
   "version": "3.8.5"
  }
 },
 "nbformat": 4,
 "nbformat_minor": 5
}
