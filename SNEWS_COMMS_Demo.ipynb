{
 "cells": [
  {
   "cell_type": "code",
   "execution_count": null,
   "id": "726cff4d-1b6e-4bb1-ac81-8cdd1b434368",
   "metadata": {},
   "outputs": [],
   "source": [
    "# Import ipyipyparallel and set up the Client\n",
    "from ipyparallel import Client\n",
    "\n",
    "rc = Client()"
   ]
  },
  {
   "cell_type": "markdown",
   "id": "d5474144-9180-45c7-864d-9b2ec5feb579",
   "metadata": {},
   "source": [
    "# Set up Subscription Calls"
   ]
  },
  {
   "cell_type": "code",
   "execution_count": null,
   "id": "53e52f97-835f-4877-a20e-65eea90fc300",
   "metadata": {},
   "outputs": [],
   "source": [
    "from hop_comms.hop_sub import HopSubscribe\n",
    "\n",
    "\n",
    "sub = HopSubscribe()\n",
    "\n",
    "\n",
    "sub.subscribe(which_topic=\"A\")"
   ]
  },
  {
   "cell_type": "code",
   "execution_count": null,
   "id": "ae0d3177-bc94-47ca-980f-33612952bd93",
   "metadata": {},
   "outputs": [],
   "source": [
    "%%px -a -t 1\n",
    "from hop_sub import HopSubscribe\n",
    "\n",
    "sub = HopSubscribe()\n",
    "\n",
    "\n",
    "sub.subscribe(which_topic=\"A\")"
   ]
  },
  {
   "cell_type": "markdown",
   "id": "3c85e30c-19ba-41f9-a6d1-ac2cfb0aa8c3",
   "metadata": {},
   "source": [
    "# Set up Coincidence Check"
   ]
  },
  {
   "cell_type": "code",
   "execution_count": null,
   "id": "8a5c73c5-bc81-4f4f-9c33-e0467852bb33",
   "metadata": {},
   "outputs": [],
   "source": [
    "%%px -a -t 2\n",
    "from hop_comms.snews_coinc import CoincDecider\n",
    "\n",
    "\n",
    "coinc = CoincDecider()\n",
    "coinc.run_coincidence()"
   ]
  },
  {
   "cell_type": "markdown",
   "id": "3cd84fd4-2b58-4ef9-a1f0-7227286939f0",
   "metadata": {},
   "source": [
    "# Run Dummy Pub"
   ]
  },
  {
   "cell_type": "code",
   "execution_count": 4,
   "id": "7cae0579-9692-4184-9d67-7501cbd25752",
   "metadata": {},
   "outputs": [],
   "source": [
    "from datetime import datetime\n",
    "import time\n",
    "from hop_comms.hop_pub import Publish_Tier_Obs\n",
    "from hop_comms.snews_utils import data_obs"
   ]
  },
  {
   "cell_type": "code",
   "execution_count": 5,
   "id": "d3c7f8a2-b7fa-4e47-86d8-5158d9064540",
   "metadata": {},
   "outputs": [],
   "source": [
    "def nu_t():\n",
    "    return datetime.utcnow().strftime(\"%H %M %S %f\")\n",
    "\n",
    "\n",
    "def machine_t():\n",
    "    return datetime.utcnow().strftime(\"%H %M %S %f\")\n",
    "\n",
    "\n",
    "\n",
    "pub = Publish_Tier_Obs()"
   ]
  },
  {
   "cell_type": "code",
   "execution_count": 6,
   "id": "de7f64c6-fab6-4269-a55f-7828de7cc92d",
   "metadata": {
    "tags": []
   },
   "outputs": [
    {
     "name": "stdout",
     "output_type": "stream",
     "text": [
      "\u001b[94m---------------------------------------------------------\u001b[0m\n",
      "_id                 :18_CoincidenceTier_21/10/08_01:40:57\n",
      "detector_name       :DS-20K\n",
      "sent_time           :21/10/08 01:40:57\n",
      "machine_time        :01 40 57 793310\n",
      "location            :loc DS-20K\n",
      "detector_status     :None\n",
      "neutrino_time       :01 40 57 793296\n",
      "p_value             :0.56\n",
      "\u001b[94m---------------------------------------------------------\u001b[0m\n",
      "_id                 :14_CoincidenceTier_21/10/08_01:40:59\n",
      "detector_name       :LZ\n",
      "sent_time           :21/10/08 01:40:59\n",
      "machine_time        :01 40 59 816912\n",
      "location            :loc LZ\n",
      "detector_status     :None\n",
      "neutrino_time       :01 40 59 816897\n",
      "p_value             :0.67\n",
      "\u001b[94m---------------------------------------------------------\u001b[0m\n",
      "_id                 :13_CoincidenceTier_21/10/08_01:41:02\n",
      "detector_name       :JUNO\n",
      "sent_time           :21/10/08 01:41:02\n",
      "machine_time        :01 41 02 554155\n",
      "location            :loc JUNO\n",
      "detector_status     :None\n",
      "neutrino_time       :01 41 02 554110\n",
      "p_value             :0.77\n",
      "\u001b[94m---------------------------------------------------------\u001b[0m\n",
      "_id                 :3_CoincidenceTier_21/10/08_01:41:03\n",
      "detector_name       :SNO+\n",
      "sent_time           :21/10/08 01:41:03\n",
      "machine_time        :01 41 03 918670\n",
      "location            :loc SNO+\n",
      "detector_status     :None\n",
      "neutrino_time       :01 41 03 918608\n",
      "p_value             :0.47\n",
      "\u001b[94m---------------------------------------------------------\u001b[0m\n",
      "_id                 :15_CoincidenceTier_21/10/08_01:41:06\n",
      "detector_name       :DUNE\n",
      "sent_time           :21/10/08 01:41:06\n",
      "machine_time        :01 41 06 251819\n",
      "location            :loc DUNE\n",
      "detector_status     :None\n",
      "neutrino_time       :01 41 06 251794\n",
      "p_value             :0.55\n",
      "\u001b[94m---------------------------------------------------------\u001b[0m\n",
      "_id                 :1_CoincidenceTier_21/10/08_01:41:15\n",
      "detector_name       :Super-K\n",
      "sent_time           :21/10/08 01:41:15\n",
      "machine_time        :None\n",
      "location            :loc Super-K\n",
      "detector_status     :None\n",
      "neutrino_time       :01 41 15 720848\n",
      "p_value             :0.67\n"
     ]
    }
   ],
   "source": [
    "DS_data = data_obs(p_value=0.56, nu_time=nu_t(), machine_time=machine_t())\n",
    "pub.publish(\"DS-20K\", \"CoincidenceTier\", DS_data)\n",
    "\n",
    "time.sleep(0.2)\n",
    "\n",
    "LZ_data = data_obs(p_value=0.67, nu_time=nu_t(), machine_time=machine_t())\n",
    "pub.publish(\"LZ\", \"CoincidenceTier\", LZ_data)\n",
    "\n",
    "time.sleep(0.6)\n",
    "\n",
    "JUNO_data = data_obs(p_value=0.77, nu_time=nu_t(), machine_time=machine_t())\n",
    "pub.publish(\"JUNO\", \"CoincidenceTier\", JUNO_data)\n",
    "\n",
    "time.sleep(0.1)\n",
    "\n",
    "SNO_data = data_obs(p_value=0.47, nu_time=nu_t(), machine_time=machine_t())\n",
    "pub.publish(\"SNO+\", \"CoincidenceTier\", SNO_data)\n",
    "\n",
    "time.sleep(1)\n",
    "\n",
    "DUNE_data = data_obs(p_value=0.55, nu_time=nu_t(), machine_time=machine_t())\n",
    "pub.publish(\"DUNE\", \"CoincidenceTier\", DUNE_data)\n",
    "\n",
    "time.sleep(8)\n",
    "\n",
    "SuperK_data = data_obs(p_value=0.67, nu_time=nu_t())\n",
    "pub.publish(\"Super-K\", \"CoincidenceTier\", SuperK_data)"
   ]
  },
  {
   "cell_type": "code",
   "execution_count": null,
   "id": "74c57929-16de-4394-9c10-1ce50d718760",
   "metadata": {},
   "outputs": [],
   "source": []
  }
 ],
 "metadata": {
  "kernelspec": {
   "display_name": "Python 3 (ipykernel)",
   "language": "python",
   "name": "python3"
  },
  "language_info": {
   "codemirror_mode": {
    "name": "ipython",
    "version": 3
   },
   "file_extension": ".py",
   "mimetype": "text/x-python",
   "name": "python",
   "nbconvert_exporter": "python",
   "pygments_lexer": "ipython3",
   "version": "3.8.11"
  }
 },
 "nbformat": 4,
 "nbformat_minor": 5
}
