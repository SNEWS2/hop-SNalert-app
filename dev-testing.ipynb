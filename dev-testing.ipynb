{
 "cells": [
  {
   "cell_type": "markdown",
   "id": "6f2d8643",
   "metadata": {},
   "source": [
    "# Hop-pub functions"
   ]
  },
  {
   "cell_type": "markdown",
   "id": "65610884",
   "metadata": {},
   "source": [
    "Sebastian Torres-Lara<br>\n",
    "Melih Kara<br>\n",
    "30-08-2021"
   ]
  },
  {
   "cell_type": "markdown",
   "id": "dbdff061",
   "metadata": {},
   "source": [
    "Todo: \n",
    "- Check how the heartbeat runs in the background. \n",
    "- Check if `SNEWSObservation` and `SNEWSHeartbeat` are good enough or if they can be improved <br>\n",
    "- ~For me (Melih) publising often fails (simple hop publish) for some reason. Need to investigate.~"
   ]
  },
  {
   "cell_type": "markdown",
   "id": "e1afae6e",
   "metadata": {},
   "source": [
    "~Should we implement the following format?~ I do not like it. \n",
    "```python\n",
    "return SNEWSObservation(message_id=str(uuid.uuid4()),\n",
    "                        detector_id=self.detector.id,\n",
    "                        sent_time=self.time_str(), \n",
    "                        neutrino_time=self.time_str(), \n",
    "                        machine_time=self.time_str(), \n",
    "                        location=self.detector.location,\n",
    "                        p_value=0.5,\n",
    "                        status=\"none\",\n",
    "                        content=\"none\").asdict()\n",
    "```\n",
    "SNEWSObservation requires all fields to be filled for the different piers the idea is the opposite. <br>\n",
    "we should be able to not-return some of the fields. <br>\n",
    "\n",
    "**-** Maybe fill the empty sections with `'none'` ?"
   ]
  },
  {
   "cell_type": "markdown",
   "id": "2a391167",
   "metadata": {},
   "source": [
    "## Application"
   ]
  },
  {
   "cell_type": "code",
   "execution_count": 10,
   "id": "5418d888",
   "metadata": {},
   "outputs": [],
   "source": [
    "from hop_pub import Publish_Observation"
   ]
  },
  {
   "cell_type": "markdown",
   "id": "cae59fb0",
   "metadata": {},
   "source": [
    "First create an object with the information. <br>\n",
    "Below, the `Publish_Observation` can have \n",
    "- `message` argument as a dictionary, `SNEWSObservation` or `SNEWSHeartbeat` objects, a file path containing a json or a dictionary. <br>\n",
    "- `detector` argument can also be specified in which case the object knows its ID and location. If not given, it takes a detector called 'TEST'. <br>\n",
    "- `env_path` as a string containing the broker, time formatting and other information. If not specified, uses the deafult environment 'test_env.env'<vr>\n",
    "- If `welcome` argument is set, it displays the versions and the connected topics."
   ]
  },
  {
   "cell_type": "code",
   "execution_count": 11,
   "id": "da1d8fcc",
   "metadata": {
    "scrolled": true
   },
   "outputs": [
    {
     "name": "stdout",
     "output_type": "stream",
     "text": [
      "##################################################\n",
      "#       Publish SNEWS OBSERVATION Messages       #\n",
      "#____________________XENONnT_____________________#\n",
      "#_________________19-loc XENONnT_________________#\n",
      "##################################################\n",
      "Your Python version:\n",
      " 3.7.11 (default, Jul 27 2021, 14:32:16) \n",
      "[GCC 7.5.0]\n",
      "Current hop-client version:0.4.0\n",
      "             snews version:0.0.1\n",
      "\n",
      "Publishing to kafka.scimma.org\n",
      "Observation Topic:\n",
      "==> kafka://kafka.scimma.org/snews.experiments-test\n",
      "Heartbeat Topic:\n",
      "==> kafka://kafka.scimma.org/snews.experiments-test\n",
      "\n",
      "\n"
     ]
    }
   ],
   "source": [
    "publisher = Publish_Observation(detector='XENONnT', welcome=True)"
   ]
  },
  {
   "cell_type": "code",
   "execution_count": 3,
   "id": "868dcfd7",
   "metadata": {},
   "outputs": [
    {
     "data": {
      "text/plain": [
       "['detector_id',\n",
       " 'machine_time',\n",
       " 'neutrino_time',\n",
       " 'sent_time',\n",
       " 'status',\n",
       " 'p_value']"
      ]
     },
     "execution_count": 3,
     "metadata": {},
     "output_type": "execute_result"
    }
   ],
   "source": [
    "publisher.tier_keys_['Significance_Tier']"
   ]
  },
  {
   "cell_type": "markdown",
   "id": "72f91848",
   "metadata": {},
   "source": [
    "### See & Modify the message before publishing"
   ]
  },
  {
   "cell_type": "markdown",
   "id": "84091130",
   "metadata": {},
   "source": [
    "If no message fed in the beginning, it produces a default one like the following. <br>\n",
    "One can add, or modify the fields."
   ]
  },
  {
   "cell_type": "code",
   "execution_count": 4,
   "id": "f36ab444",
   "metadata": {},
   "outputs": [
    {
     "name": "stdout",
     "output_type": "stream",
     "text": [
      "Following OBS message to be published:\n",
      "Current time:21/08/30 19:33:28\n",
      "\n",
      "message_id          :19_O_21/08/30_19:33:26\n",
      "detector_id         :19\n",
      "sent_time           :21/08/30 19:33:26\n",
      "neutrino_time       :21/08/30 19:33:26\n",
      "machine_time        :21/08/30 19:33:26\n",
      "location            :loc XENONnT\n",
      "p_value             :0\n",
      "status              :none\n",
      "content             :none\n",
      "\n",
      "> modify self.message_dict or \n",
      "> use .publish_to_tiers() method to publish (see .publish_to)\n"
     ]
    }
   ],
   "source": [
    "publisher.display_message()"
   ]
  },
  {
   "cell_type": "code",
   "execution_count": 5,
   "id": "8d288242",
   "metadata": {},
   "outputs": [
    {
     "name": "stdout",
     "output_type": "stream",
     "text": [
      "Following OBS message to be published:\n",
      "Current time:21/08/30 19:33:29\n",
      "\n",
      "message_id          :19_O_21/08/30_19:33:26\n",
      "detector_id         :19\n",
      "sent_time           :21/08/30 19:33:26\n",
      "neutrino_time       :21/08/30 19:33:26\n",
      "machine_time        :21/08/30 19:33:26\n",
      "location            :loc XENONnT\n",
      "p_value             :0\n",
      "status              :none\n",
      "content             :This is a modified content\n",
      "New Field           :This is a new field\n",
      "\n",
      "> modify self.message_dict or \n",
      "> use .publish_to_tiers() method to publish (see .publish_to)\n"
     ]
    }
   ],
   "source": [
    "# modify the content and add a non-existing field\n",
    "publisher.message_dict['content'] = 'This is a modified content'\n",
    "publisher.message_dict['New Field'] = 'This is a new field'\n",
    "publisher.display_message()"
   ]
  },
  {
   "cell_type": "markdown",
   "id": "2170e39d",
   "metadata": {},
   "source": [
    "### Submission to Different Tiers"
   ]
  },
  {
   "cell_type": "markdown",
   "id": "48700be6",
   "metadata": {},
   "source": [
    "Here, it is not clear to me conceptually. There is only one topic that the experiments can publish their messages. <br>\n",
    "The different Tiers should be based on the content of the messages. Currently, the script does this by taking only the fields relevant for that tier. See ``"
   ]
  },
  {
   "cell_type": "code",
   "execution_count": 6,
   "id": "fb2addc2",
   "metadata": {},
   "outputs": [
    {
     "name": "stdout",
     "output_type": "stream",
     "text": [
      "{'Significance_Tier': True, 'Coincidence_Tier': True, 'Timing_Tier': True}\n",
      "{'Significance_Tier': True, 'Coincidence_Tier': True, 'Timing_Tier': False}\n"
     ]
    }
   ],
   "source": [
    "# See which tiers are connected\n",
    "print(publisher.publish_to)\n",
    "publisher.publish_to['Timing_Tier'] = False\n",
    "print(publisher.publish_to)"
   ]
  },
  {
   "cell_type": "code",
   "execution_count": 12,
   "id": "8efd733f",
   "metadata": {},
   "outputs": [
    {
     "name": "stdout",
     "output_type": "stream",
     "text": [
      "\n",
      "Publishing OBS message to Significance_Tier:\n",
      "detector_id         :19\n",
      "machine_time        :21/08/30 19:40:05\n",
      "neutrino_time       :21/08/30 19:40:05\n",
      "sent_time           :21/08/30 19:40:12\n",
      "status              :none\n",
      "p_value             :0\n",
      "\n",
      "Publishing OBS message to Coincidence_Tier:\n",
      "detector_id         :19\n",
      "machine_time        :21/08/30 19:40:05\n",
      "neutrino_time       :21/08/30 19:40:05\n",
      "sent_time           :21/08/30 19:40:16\n",
      "status              :none\n",
      "\n",
      "Publishing OBS message to Timing_Tier:\n",
      "detector_id         :19\n",
      "machine_time        :21/08/30 19:40:05\n",
      "neutrino_time       :21/08/30 19:40:05\n",
      "sent_time           :21/08/30 19:40:19\n",
      "status              :none\n",
      "content             :none\n"
     ]
    }
   ],
   "source": [
    "publisher.publish_to_tiers()"
   ]
  },
  {
   "cell_type": "markdown",
   "id": "8bab95e3",
   "metadata": {},
   "source": [
    "---\n",
    "**Publish the message**"
   ]
  },
  {
   "cell_type": "code",
   "execution_count": 9,
   "id": "99ba4479",
   "metadata": {},
   "outputs": [
    {
     "name": "stdout",
     "output_type": "stream",
     "text": [
      "\n",
      "Published the Heartbeat message to kafka://kafka.scimma.org/snews.experiments-test:\n",
      "detector_id         :19\n",
      "message_id          :19_H_21/08/30_19:39:32\n",
      "status              :ON\n",
      "sent_time           :21/08/30 19:39:32\n"
     ]
    }
   ],
   "source": [
    "publisher.publish()"
   ]
  },
  {
   "cell_type": "markdown",
   "id": "dd35e6eb",
   "metadata": {},
   "source": [
    "---"
   ]
  },
  {
   "cell_type": "markdown",
   "id": "1f241df1",
   "metadata": {},
   "source": [
    "# Heartbeat Messages"
   ]
  },
  {
   "cell_type": "code",
   "execution_count": 13,
   "id": "10745f7e",
   "metadata": {},
   "outputs": [
    {
     "name": "stdout",
     "output_type": "stream",
     "text": [
      "Press Ctrl+C to exit\n",
      "\n",
      "Published the Heartbeat message to kafka://kafka.scimma.org/snews.experiments-test:\n",
      "detector_id         :19\n",
      "message_id          :19_H_21/08/30_19:40:53\n",
      "status              :OFF\n",
      "sent_time           :21/08/30 19:40:53\n",
      "\n",
      "Published the Heartbeat message to kafka://kafka.scimma.org/snews.experiments-test:\n",
      "detector_id         :19\n",
      "message_id          :19_H_21/08/30_19:41:03\n",
      "status              :OFF\n",
      "sent_time           :21/08/30 19:41:03\n",
      "\n",
      "Published the Heartbeat message to kafka://kafka.scimma.org/snews.experiments-test:\n",
      "detector_id         :19\n",
      "message_id          :19_H_21/08/30_19:41:13\n",
      "status              :ON\n",
      "sent_time           :21/08/30 19:41:13\n"
     ]
    }
   ],
   "source": [
    "from hop_pub import Publish_Heartbeat\n",
    "publisher = Publish_Heartbeat(detector='XENONnT', rate=10)"
   ]
  },
  {
   "cell_type": "markdown",
   "id": "576ca975",
   "metadata": {},
   "source": [
    "---"
   ]
  },
  {
   "cell_type": "markdown",
   "id": "7e79c7f9",
   "metadata": {},
   "source": [
    "# Alert Messages"
   ]
  },
  {
   "cell_type": "code",
   "execution_count": 14,
   "id": "5dff618e",
   "metadata": {},
   "outputs": [
    {
     "data": {
      "text/html": [
       "<img src=https://raw.githubusercontent.com/SNEWS2/hop-SNalert-app/KaraMelih-dev/useful_code/snalert.gif>"
      ],
      "text/plain": [
       "<IPython.core.display.HTML object>"
      ]
     },
     "metadata": {},
     "output_type": "display_data"
    },
    {
     "name": "stdout",
     "output_type": "stream",
     "text": [
      "\n",
      "Published ALERT message to kafka://kafka.scimma.org/snews.alert-test !!!\n"
     ]
    }
   ],
   "source": [
    "from hop_pub import Publish_Alert\n",
    "alert_publisher = Publish_Alert()\n",
    "alert_publisher.publish()"
   ]
  },
  {
   "cell_type": "code",
   "execution_count": null,
   "id": "82276e42",
   "metadata": {},
   "outputs": [],
   "source": []
  },
  {
   "cell_type": "code",
   "execution_count": null,
   "id": "7ca0c0b4",
   "metadata": {},
   "outputs": [],
   "source": []
  }
 ],
 "metadata": {
  "kernelspec": {
   "display_name": "Python 3 (ipykernel)",
   "language": "python",
   "name": "python3"
  },
  "language_info": {
   "codemirror_mode": {
    "name": "ipython",
    "version": 3
   },
   "file_extension": ".py",
   "mimetype": "text/x-python",
   "name": "python",
   "nbconvert_exporter": "python",
   "pygments_lexer": "ipython3",
   "version": "3.8.11"
  }
 },
 "nbformat": 4,
 "nbformat_minor": 5
}
