{
 "cells": [
  {
   "cell_type": "code",
   "execution_count": null,
   "id": "381ca03f-7718-46ae-a67a-956471351fbd",
   "metadata": {},
   "outputs": [],
   "source": []
  },
  {
   "cell_type": "code",
   "execution_count": null,
   "id": "726cff4d-1b6e-4bb1-ac81-8cdd1b434368",
   "metadata": {},
   "outputs": [],
   "source": [
    "# Import ipyipyparallel and set up the Client\n",
    "from ipyparallel import Client\n",
    "rc = Client()"
   ]
  },
  {
   "cell_type": "code",
   "execution_count": null,
   "id": "a31a9915-24f5-4f23-b304-043f721c6e8f",
   "metadata": {},
   "outputs": [],
   "source": [
    "from hop_sub import HopSubscribe\n",
    "\n",
    "sub = HopSubscribe()\n",
    "\n",
    "\n",
    "sub.subscribe(which_topic='O') "
   ]
  },
  {
   "cell_type": "code",
   "execution_count": null,
   "id": "ae0d3177-bc94-47ca-980f-33612952bd93",
   "metadata": {},
   "outputs": [],
   "source": [
    "from hop_sub import HopSubscribe\n",
    "\n",
    "sub = HopSubscribe()\n",
    "\n",
    "\n",
    "sub.subscribe(which_topic='A') "
   ]
  },
  {
   "cell_type": "code",
   "execution_count": null,
   "id": "521278a2-091a-4f04-b8f1-89c80c3c89e8",
   "metadata": {},
   "outputs": [],
   "source": []
  },
  {
   "cell_type": "code",
   "execution_count": null,
   "id": "8a5c73c5-bc81-4f4f-9c33-e0467852bb33",
   "metadata": {},
   "outputs": [],
   "source": [
    "from snews_coinc import CoincDecider"
   ]
  },
  {
   "cell_type": "code",
   "execution_count": null,
   "id": "30bf0b96-4ec1-40c1-80df-67413bf8d8a0",
   "metadata": {},
   "outputs": [],
   "source": [
    "coinc = CoincDecider()"
   ]
  },
  {
   "cell_type": "code",
   "execution_count": null,
   "id": "144e7d16-5aa1-43f5-9124-639bed207040",
   "metadata": {},
   "outputs": [],
   "source": [
    "coinc.run_coincidence()"
   ]
  },
  {
   "cell_type": "code",
   "execution_count": null,
   "id": "60cb10b9-5e81-4d7e-9ba3-397e92ab5eda",
   "metadata": {},
   "outputs": [],
   "source": []
  },
  {
   "cell_type": "code",
   "execution_count": 1,
   "id": "7cae0579-9692-4184-9d67-7501cbd25752",
   "metadata": {},
   "outputs": [],
   "source": [
    "from snews_utils import data_enum_obs as data_enum\n",
    "from hop_pub import Publish_Tier_Obs\n",
    "from hop_mgs_schema import Message_Schema\n",
    "from snews_utils import TimeStuff\n",
    "from datetime import datetime\n",
    "import time "
   ]
  },
  {
   "cell_type": "code",
   "execution_count": 2,
   "id": "d3c7f8a2-b7fa-4e47-86d8-5158d9064540",
   "metadata": {},
   "outputs": [],
   "source": [
    "def nu_t():\n",
    "    return datetime.utcnow().strftime('%H %M %S %f')\n",
    "def machine_t():\n",
    "    return datetime.utcnow().strftime('%H %M %S %f')\n",
    "\n",
    "pub = Publish_Tier_Obs()"
   ]
  },
  {
   "cell_type": "code",
   "execution_count": 8,
   "id": "de7f64c6-fab6-4269-a55f-7828de7cc92d",
   "metadata": {
    "tags": []
   },
   "outputs": [
    {
     "name": "stdout",
     "output_type": "stream",
     "text": [
      "{'_id': '18_CoincidenceTier_21/09/24_17:37:30', 'detector_name': 'DS-20K', 'sent_time': '21/09/24 17:37:30', 'neutrino_time': '17 37 30 441605', 'machine_time': '17 37 30 441626', 'location': 'loc DS-20K', 'p_value': 0.56, 'status': None}\n",
      "{'_id': '14_CoincidenceTier_21/09/24_17:37:31', 'detector_name': 'LZ', 'sent_time': '21/09/24 17:37:31', 'neutrino_time': '17 37 31 828010', 'machine_time': '17 37 31 828026', 'location': 'loc LZ', 'p_value': 0.67, 'status': None}\n",
      "{'_id': '13_CoincidenceTier_21/09/24_17:37:33', 'detector_name': 'JUNO', 'sent_time': '21/09/24 17:37:33', 'neutrino_time': '17 37 33 459879', 'machine_time': '17 37 33 459895', 'location': 'loc JUNO', 'p_value': 0.77, 'status': None}\n",
      "{'_id': '3_CoincidenceTier_21/09/24_17:37:34', 'detector_name': 'SNO+', 'sent_time': '21/09/24 17:37:34', 'neutrino_time': '17 37 34 620419', 'machine_time': '17 37 34 620458', 'location': 'loc SNO+', 'p_value': 0.47, 'status': None}\n",
      "{'_id': '15_CoincidenceTier_21/09/24_17:37:36', 'detector_name': 'DUNE', 'sent_time': '21/09/24 17:37:36', 'neutrino_time': '17 37 36 644479', 'machine_time': '17 37 36 644501', 'location': 'loc DUNE', 'p_value': 0.55, 'status': None}\n",
      "{'_id': '1_CoincidenceTier_21/09/24_17:37:45', 'detector_name': 'Super-K', 'sent_time': '21/09/24 17:37:45', 'neutrino_time': '17 37 45 744623', 'machine_time': None, 'location': 'loc Super-K', 'p_value': 0.67, 'status': None}\n"
     ]
    }
   ],
   "source": [
    "DS_data = data_enum(p_value=0.56,nu_time=nu_t(),machine_time=machine_t())\n",
    "pub.publish('DS-20K',\"CoincidenceTier\",DS_data)\n",
    "\n",
    "time.sleep(0.2)\n",
    "\n",
    "LZ_data = data_enum(p_value=0.67,nu_time=nu_t(),machine_time=machine_t())\n",
    "pub.publish('LZ',\"CoincidenceTier\",LZ_data)\n",
    "\n",
    "time.sleep(0.6)\n",
    "\n",
    "JUNO_data = data_enum(p_value=0.77,nu_time=nu_t(),machine_time=machine_t())\n",
    "pub.publish('JUNO',\"CoincidenceTier\",JUNO_data)\n",
    "\n",
    "time.sleep(0.1)\n",
    "\n",
    "SNO_data = data_enum(p_value=0.47,nu_time=nu_t(),machine_time=machine_t())\n",
    "pub.publish('SNO+',\"CoincidenceTier\",SNO_data)\n",
    "\n",
    "time.sleep(1)\n",
    "\n",
    "DUNE_data = data_enum(p_value=0.55,nu_time=nu_t(),machine_time=machine_t())\n",
    "pub.publish('DUNE',\"CoincidenceTier\",DUNE_data)\n",
    "\n",
    "time.sleep(8)\n",
    "\n",
    "SuperK_data = data_enum(p_value=0.67,nu_time=nu_t())\n",
    "pub.publish('Super-K',\"CoincidenceTier\",SuperK_data)"
   ]
  },
  {
   "cell_type": "code",
   "execution_count": null,
   "id": "b0ccd235-f628-482c-8756-4e6350befa87",
   "metadata": {},
   "outputs": [],
   "source": []
  }
 ],
 "metadata": {
  "kernelspec": {
   "display_name": "Python 3",
   "language": "python",
   "name": "python3"
  },
  "language_info": {
   "codemirror_mode": {
    "name": "ipython",
    "version": 3
   },
   "file_extension": ".py",
   "mimetype": "text/x-python",
   "name": "python",
   "nbconvert_exporter": "python",
   "pygments_lexer": "ipython3",
   "version": "3.8.10"
  }
 },
 "nbformat": 4,
 "nbformat_minor": 5
}
