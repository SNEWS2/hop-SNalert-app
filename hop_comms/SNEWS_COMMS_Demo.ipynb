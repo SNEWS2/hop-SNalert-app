{
 "cells": [
  {
   "cell_type": "code",
   "execution_count": null,
   "id": "726cff4d-1b6e-4bb1-ac81-8cdd1b434368",
   "metadata": {},
   "outputs": [],
   "source": [
    "# Import ipyipyparallel and set up the Client\n",
    "from ipyparallel import Client\n",
    "\n",
    "rc = Client()"
   ]
  },
  {
   "cell_type": "markdown",
   "id": "d5474144-9180-45c7-864d-9b2ec5feb579",
   "metadata": {},
   "source": [
    "# Set up Subscription Calls"
   ]
  },
  {
   "cell_type": "code",
   "execution_count": null,
   "id": "53e52f97-835f-4877-a20e-65eea90fc300",
   "metadata": {},
   "outputs": [
    {
     "name": "stdout",
     "output_type": "stream",
     "text": [
      "You are subscribing to \u001b[41m\u001b[1mALERT\u001b[0m\n",
      "Broker:\u001b[44mkafka://kafka.scimma.org/snews.alert-test\u001b[0m\n"
     ]
    }
   ],
   "source": [
    "%%px -a -t 0\n",
    "\n",
    "from hop_comms.hop_sub import HopSubscribe\n",
    "env = '../SNEWS_dev/hop-SNalert-app/hop_comms/auxiliary/test-config.env'\n",
    "sub = HopSubscribe(env_path=env)\n",
    "\n",
    "\n",
    "sub.subscribe(which_topic=\"A\")"
   ]
  },
  {
   "cell_type": "code",
   "execution_count": null,
   "id": "ae0d3177-bc94-47ca-980f-33612952bd93",
   "metadata": {},
   "outputs": [],
   "source": [
    "%%px -a -t 1\n",
    "from hop_sub import HopSubscribe\n",
    "\n",
    "sub = HopSubscribe()\n",
    "\n",
    "\n",
    "sub.subscribe(which_topic=\"A\")"
   ]
  },
  {
   "cell_type": "markdown",
   "id": "3c85e30c-19ba-41f9-a6d1-ac2cfb0aa8c3",
   "metadata": {},
   "source": [
    "# Set up Coincidence Check"
   ]
  },
  {
   "cell_type": "code",
   "execution_count": null,
   "id": "8a5c73c5-bc81-4f4f-9c33-e0467852bb33",
   "metadata": {},
   "outputs": [],
   "source": [
    "%%px -a -t 2\n",
    "from snews_coinc import CoincDecider\n",
    "\n",
    "coinc = CoincDecider()\n",
    "coinc.run_coincidence()"
   ]
  },
  {
   "cell_type": "markdown",
   "id": "3cd84fd4-2b58-4ef9-a1f0-7227286939f0",
   "metadata": {},
   "source": [
    "# Run Dummy Pub"
   ]
  },
  {
   "cell_type": "code",
   "execution_count": null,
   "id": "7cae0579-9692-4184-9d67-7501cbd25752",
   "metadata": {},
   "outputs": [],
   "source": [
    "import time\n",
    "from datetime import datetime\n",
    "\n",
    "from hop_mgs_schema import Message_Schema\n",
    "from hop_pub import Publish_Tier_Obs\n",
    "from snews_utils import TimeStuff\n",
    "from snews_utils import data_obs\n",
    "\n",
    "from hop_comms.hop_pub import Publish_Tier_Obs\n",
    "from hop_comms.snews_utils import"
   ]
  },
  {
   "cell_type": "code",
   "execution_count": null,
   "id": "d3c7f8a2-b7fa-4e47-86d8-5158d9064540",
   "metadata": {},
   "outputs": [],
   "source": [
    "def nu_t():\n",
    "    return datetime.utcnow().strftime(\"%H %M %S %f\")\n",
    "\n",
    "\n",
    "def machine_t():\n",
    "    return datetime.utcnow().strftime(\"%H %M %S %f\")\n",
    "\n",
    "\n",
    "pub = Publish_Tier_Obs()"
   ]
  },
  {
   "cell_type": "code",
   "execution_count": null,
   "id": "de7f64c6-fab6-4269-a55f-7828de7cc92d",
   "metadata": {
    "tags": []
   },
   "outputs": [],
   "source": [
    "DS_data = data_enum(p_value=0.56, nu_time=nu_t(), machine_time=machine_t())\n",
    "pub.publish(\"DS-20K\", \"CoincidenceTier\", DS_data)\n",
    "\n",
    "time.sleep(0.2)\n",
    "\n",
    "LZ_data = data_enum(p_value=0.67, nu_time=nu_t(), machine_time=machine_t())\n",
    "pub.publish(\"LZ\", \"CoincidenceTier\", LZ_data)\n",
    "\n",
    "time.sleep(0.6)\n",
    "\n",
    "JUNO_data = data_enum(p_value=0.77, nu_time=nu_t(), machine_time=machine_t())\n",
    "pub.publish(\"JUNO\", \"CoincidenceTier\", JUNO_data)\n",
    "\n",
    "time.sleep(0.1)\n",
    "\n",
    "SNO_data = data_enum(p_value=0.47, nu_time=nu_t(), machine_time=machine_t())\n",
    "pub.publish(\"SNO+\", \"CoincidenceTier\", SNO_data)\n",
    "\n",
    "time.sleep(1)\n",
    "\n",
    "DUNE_data = data_enum(p_value=0.55, nu_time=nu_t(), machine_time=machine_t())\n",
    "pub.publish(\"DUNE\", \"CoincidenceTier\", DUNE_data)\n",
    "\n",
    "time.sleep(8)\n",
    "\n",
    "SuperK_data = data_enum(p_value=0.67, nu_time=nu_t())\n",
    "pub.publish(\"Super-K\", \"CoincidenceTier\", SuperK_data)"
   ]
  },
  {
   "cell_type": "code",
   "execution_count": null,
   "id": "b0ccd235-f628-482c-8756-4e6350befa87",
   "metadata": {},
   "outputs": [],
   "source": [
    "from hop_comms import hop_pub"
   ]
  },
  {
   "cell_type": "code",
   "execution_count": null,
   "id": "916d1f24-dac1-40d7-867a-ca0aedcf173c",
   "metadata": {},
   "outputs": [],
   "source": [
    "from hop_comms import hop_pub"
   ]
  },
  {
   "cell_type": "code",
   "execution_count": null,
   "id": "5111a3c7-086e-42f7-bd46-905090c8d9b1",
   "metadata": {},
   "outputs": [],
   "source": [
    "from hop_comms.hop_sub import HopSubscribe\n",
    "sub = HopSubscribe()\n",
    "\n",
    "\n",
    "sub.subscribe(which_topic=\"O\")"
   ]
  },
  {
   "cell_type": "code",
   "execution_count": 4,
   "id": "2ed78fb8-a5d0-4628-a0ff-4935d5bd99cf",
   "metadata": {},
   "outputs": [],
   "source": [
    "import os"
   ]
  },
  {
   "cell_type": "code",
   "execution_count": null,
   "id": "9cbf8613-b3fc-4e93-a5af-284339ddda55",
   "metadata": {},
   "outputs": [],
   "source": [
    "time  = os.getenv('MSG_EXPIRATION')"
   ]
  },
  {
   "cell_type": "code",
   "execution_count": null,
   "id": "4589c116-656b-459e-9e18-5e6e7e2aef7a",
   "metadata": {},
   "outputs": [],
   "source": [
    "print(time)"
   ]
  },
  {
   "cell_type": "code",
   "execution_count": 1,
   "id": "bce356e7-82f2-447d-8aff-9e9c109bce34",
   "metadata": {},
   "outputs": [],
   "source": [
    "from hop_comms.snews_utils import set_env"
   ]
  },
  {
   "cell_type": "code",
   "execution_count": 2,
   "id": "135637f0-2e3d-43a0-9b32-0a2801f818be",
   "metadata": {},
   "outputs": [],
   "source": [
    "set_env()"
   ]
  },
  {
   "cell_type": "code",
   "execution_count": 5,
   "id": "135ca880-d8f0-41e1-ad79-a08f4e1fb672",
   "metadata": {},
   "outputs": [],
   "source": [
    "time  = os.getenv('MSG_EXPIRATION')"
   ]
  },
  {
   "cell_type": "code",
   "execution_count": 6,
   "id": "cae52154-839f-47d3-9d79-85cf7e2f479d",
   "metadata": {},
   "outputs": [
    {
     "data": {
      "text/plain": [
       "'120'"
      ]
     },
     "execution_count": 6,
     "metadata": {},
     "output_type": "execute_result"
    }
   ],
   "source": [
    "time"
   ]
  },
  {
   "cell_type": "code",
   "execution_count": null,
   "id": "1c5cb63a-c8a9-4303-a54b-2c48d0f0e91e",
   "metadata": {},
   "outputs": [],
   "source": [
    "os.environ['MSG_EXPIRATION']"
   ]
  },
  {
   "cell_type": "code",
   "execution_count": null,
   "id": "cee5441d-4924-45d5-b7b3-44d961dd360e",
   "metadata": {},
   "outputs": [],
   "source": []
  }
 ],
 "metadata": {
  "kernelspec": {
   "display_name": "Python 3",
   "language": "python",
   "name": "python3"
  },
  "language_info": {
   "codemirror_mode": {
    "name": "ipython",
    "version": 3
   },
   "file_extension": ".py",
   "mimetype": "text/x-python",
   "name": "python",
   "nbconvert_exporter": "python",
   "pygments_lexer": "ipython3",
   "version": "3.8.10"
  }
 },
 "nbformat": 4,
 "nbformat_minor": 5
}
