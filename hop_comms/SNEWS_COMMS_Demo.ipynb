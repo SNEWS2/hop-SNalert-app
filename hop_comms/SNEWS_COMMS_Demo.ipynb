{
 "cells": [
  {
   "cell_type": "code",
   "execution_count": null,
   "id": "726cff4d-1b6e-4bb1-ac81-8cdd1b434368",
   "metadata": {},
   "outputs": [],
   "source": [
    "# Import ipyipyparallel and set up the Client\n",
    "from ipyparallel import Client\n",
    "\n",
    "rc = Client()"
   ]
  },
  {
   "cell_type": "markdown",
   "id": "d5474144-9180-45c7-864d-9b2ec5feb579",
   "metadata": {},
   "source": [
    "# Set up Subscription Calls"
   ]
  },
  {
   "cell_type": "code",
   "execution_count": null,
   "id": "53e52f97-835f-4877-a20e-65eea90fc300",
   "metadata": {},
   "outputs": [],
   "source": [
    "from hop_comms.hop_sub import HopSubscribe\n",
    "\n",
    "env = \"./test-config.env\"\n",
    "sub = HopSubscribe(env_path=env)\n",
    "\n",
    "# sub = HopSubscribe()\n",
    "\n",
    "\n",
    "sub.subscribe(which_topic=\"A\")"
   ]
  },
  {
   "cell_type": "code",
   "execution_count": null,
   "id": "ae0d3177-bc94-47ca-980f-33612952bd93",
   "metadata": {},
   "outputs": [],
   "source": [
    "%%px -a -t 1\n",
    "from hop_sub import HopSubscribe\n",
    "\n",
    "sub = HopSubscribe()\n",
    "\n",
    "\n",
    "sub.subscribe(which_topic=\"A\")"
   ]
  },
  {
   "cell_type": "markdown",
   "id": "3c85e30c-19ba-41f9-a6d1-ac2cfb0aa8c3",
   "metadata": {},
   "source": [
    "# Set up Coincidence Check"
   ]
  },
  {
   "cell_type": "code",
   "execution_count": null,
   "id": "8a5c73c5-bc81-4f4f-9c33-e0467852bb33",
   "metadata": {},
   "outputs": [],
   "source": [
    "%%px -a -t 2\n",
    "from hop_comms.snews_coinc import CoincDecider\n",
    "\n",
    "env = \"./test-config.env\"\n",
    "coinc = CoincDecider(env)\n",
    "coinc.run_coincidence()"
   ]
  },
  {
   "cell_type": "markdown",
   "id": "3cd84fd4-2b58-4ef9-a1f0-7227286939f0",
   "metadata": {},
   "source": [
    "# Run Dummy Pub"
   ]
  },
  {
   "cell_type": "code",
   "execution_count": 1,
   "id": "7cae0579-9692-4184-9d67-7501cbd25752",
   "metadata": {},
   "outputs": [],
   "source": [
    "from datetime import datetime\n",
    "\n",
    "from hop_comms.hop_pub import Publish_Tier_Obs\n",
    "from hop_comms.snews_utils import data_obs"
   ]
  },
  {
   "cell_type": "code",
   "execution_count": 2,
   "id": "d3c7f8a2-b7fa-4e47-86d8-5158d9064540",
   "metadata": {},
   "outputs": [],
   "source": [
    "def nu_t():\n",
    "    return datetime.utcnow().strftime(\"%H %M %S %f\")\n",
    "\n",
    "\n",
    "def machine_t():\n",
    "    return datetime.utcnow().strftime(\"%H %M %S %f\")\n",
    "\n",
    "\n",
    "env = \"./test-config.env\"\n",
    "pub = Publish_Tier_Obs(env_path=env)"
   ]
  },
  {
   "cell_type": "code",
   "execution_count": 3,
   "id": "de7f64c6-fab6-4269-a55f-7828de7cc92d",
   "metadata": {
    "tags": []
   },
   "outputs": [
    {
     "ename": "FileNotFoundError",
     "evalue": "[Errno 2] No such file or directory: 'hop_comms/auxiliary/detector_properties.json'",
     "output_type": "error",
     "traceback": [
      "\u001b[0;31m---------------------------------------------------------------------------\u001b[0m",
      "\u001b[0;31mFileNotFoundError\u001b[0m                         Traceback (most recent call last)",
      "\u001b[0;32m<ipython-input-3-4d91b0d940b7>\u001b[0m in \u001b[0;36m<module>\u001b[0;34m\u001b[0m\n\u001b[1;32m      1\u001b[0m \u001b[0mDS_data\u001b[0m \u001b[0;34m=\u001b[0m \u001b[0mdata_obs\u001b[0m\u001b[0;34m(\u001b[0m\u001b[0mp_value\u001b[0m\u001b[0;34m=\u001b[0m\u001b[0;36m0.56\u001b[0m\u001b[0;34m,\u001b[0m \u001b[0mnu_time\u001b[0m\u001b[0;34m=\u001b[0m\u001b[0mnu_t\u001b[0m\u001b[0;34m(\u001b[0m\u001b[0;34m)\u001b[0m\u001b[0;34m,\u001b[0m \u001b[0mmachine_time\u001b[0m\u001b[0;34m=\u001b[0m\u001b[0mmachine_t\u001b[0m\u001b[0;34m(\u001b[0m\u001b[0;34m)\u001b[0m\u001b[0;34m)\u001b[0m\u001b[0;34m\u001b[0m\u001b[0;34m\u001b[0m\u001b[0m\n\u001b[0;32m----> 2\u001b[0;31m \u001b[0mpub\u001b[0m\u001b[0;34m.\u001b[0m\u001b[0mpublish\u001b[0m\u001b[0;34m(\u001b[0m\u001b[0;34m\"DS-20K\"\u001b[0m\u001b[0;34m,\u001b[0m \u001b[0;34m\"CoincidenceTier\"\u001b[0m\u001b[0;34m,\u001b[0m \u001b[0mDS_data\u001b[0m\u001b[0;34m)\u001b[0m\u001b[0;34m\u001b[0m\u001b[0;34m\u001b[0m\u001b[0m\n\u001b[0m\u001b[1;32m      3\u001b[0m \u001b[0;34m\u001b[0m\u001b[0m\n\u001b[1;32m      4\u001b[0m \u001b[0mtime\u001b[0m\u001b[0;34m.\u001b[0m\u001b[0msleep\u001b[0m\u001b[0;34m(\u001b[0m\u001b[0;36m0.2\u001b[0m\u001b[0;34m)\u001b[0m\u001b[0;34m\u001b[0m\u001b[0;34m\u001b[0m\u001b[0m\n\u001b[1;32m      5\u001b[0m \u001b[0;34m\u001b[0m\u001b[0m\n",
      "\u001b[0;32m~/anaconda3/envs/work/lib/python3.8/site-packages/hop_comms/hop_pub.py\u001b[0m in \u001b[0;36mpublish\u001b[0;34m(self, detector, msg_type, data)\u001b[0m\n\u001b[1;32m    126\u001b[0m \u001b[0;34m\u001b[0m\u001b[0m\n\u001b[1;32m    127\u001b[0m     \u001b[0;32mdef\u001b[0m \u001b[0mpublish\u001b[0m\u001b[0;34m(\u001b[0m\u001b[0mself\u001b[0m\u001b[0;34m,\u001b[0m \u001b[0mdetector\u001b[0m\u001b[0;34m,\u001b[0m \u001b[0mmsg_type\u001b[0m\u001b[0;34m,\u001b[0m \u001b[0mdata\u001b[0m\u001b[0;34m)\u001b[0m\u001b[0;34m:\u001b[0m\u001b[0;34m\u001b[0m\u001b[0;34m\u001b[0m\u001b[0m\n\u001b[0;32m--> 128\u001b[0;31m         \u001b[0mschema\u001b[0m \u001b[0;34m=\u001b[0m \u001b[0mMessage_Schema\u001b[0m\u001b[0;34m(\u001b[0m\u001b[0mdetector_key\u001b[0m\u001b[0;34m=\u001b[0m\u001b[0mdetector\u001b[0m\u001b[0;34m)\u001b[0m\u001b[0;34m\u001b[0m\u001b[0;34m\u001b[0m\u001b[0m\n\u001b[0m\u001b[1;32m    129\u001b[0m         \u001b[0msent_time\u001b[0m \u001b[0;34m=\u001b[0m \u001b[0mself\u001b[0m\u001b[0;34m.\u001b[0m\u001b[0mtimes\u001b[0m\u001b[0;34m.\u001b[0m\u001b[0mget_snews_time\u001b[0m\u001b[0;34m(\u001b[0m\u001b[0;34m)\u001b[0m\u001b[0;34m\u001b[0m\u001b[0;34m\u001b[0m\u001b[0m\n\u001b[1;32m    130\u001b[0m         \u001b[0mobs_schema\u001b[0m \u001b[0;34m=\u001b[0m \u001b[0mschema\u001b[0m\u001b[0;34m.\u001b[0m\u001b[0mget_obs_schema\u001b[0m\u001b[0;34m(\u001b[0m\u001b[0mmsg_type\u001b[0m\u001b[0;34m,\u001b[0m \u001b[0mdata\u001b[0m\u001b[0;34m,\u001b[0m \u001b[0msent_time\u001b[0m\u001b[0;34m)\u001b[0m\u001b[0;34m\u001b[0m\u001b[0;34m\u001b[0m\u001b[0m\n",
      "\u001b[0;32m~/anaconda3/envs/work/lib/python3.8/site-packages/hop_comms/hop_mgs_schema.py\u001b[0m in \u001b[0;36m__init__\u001b[0;34m(self, env_path, detector_key, alert)\u001b[0m\n\u001b[1;32m     10\u001b[0m             \u001b[0mself\u001b[0m\u001b[0;34m.\u001b[0m\u001b[0mtimes\u001b[0m \u001b[0;34m=\u001b[0m \u001b[0mTimeStuff\u001b[0m\u001b[0;34m(\u001b[0m\u001b[0menv_path\u001b[0m\u001b[0;34m)\u001b[0m\u001b[0;34m\u001b[0m\u001b[0;34m\u001b[0m\u001b[0m\n\u001b[1;32m     11\u001b[0m         \u001b[0;32melse\u001b[0m\u001b[0;34m:\u001b[0m\u001b[0;34m\u001b[0m\u001b[0;34m\u001b[0m\u001b[0m\n\u001b[0;32m---> 12\u001b[0;31m             \u001b[0mself\u001b[0m\u001b[0;34m.\u001b[0m\u001b[0mdetector\u001b[0m \u001b[0;34m=\u001b[0m \u001b[0msnews_utils\u001b[0m\u001b[0;34m.\u001b[0m\u001b[0mget_detector\u001b[0m\u001b[0;34m(\u001b[0m\u001b[0mdetector_key\u001b[0m\u001b[0;34m)\u001b[0m\u001b[0;34m\u001b[0m\u001b[0;34m\u001b[0m\u001b[0m\n\u001b[0m\u001b[1;32m     13\u001b[0m             \u001b[0mself\u001b[0m\u001b[0;34m.\u001b[0m\u001b[0mdetector_name\u001b[0m \u001b[0;34m=\u001b[0m \u001b[0mself\u001b[0m\u001b[0;34m.\u001b[0m\u001b[0mdetector\u001b[0m\u001b[0;34m.\u001b[0m\u001b[0mname\u001b[0m\u001b[0;34m\u001b[0m\u001b[0;34m\u001b[0m\u001b[0m\n\u001b[1;32m     14\u001b[0m             \u001b[0mself\u001b[0m\u001b[0;34m.\u001b[0m\u001b[0mdetector_loc\u001b[0m \u001b[0;34m=\u001b[0m \u001b[0mself\u001b[0m\u001b[0;34m.\u001b[0m\u001b[0mdetector\u001b[0m\u001b[0;34m.\u001b[0m\u001b[0mlocation\u001b[0m\u001b[0;34m\u001b[0m\u001b[0;34m\u001b[0m\u001b[0m\n",
      "\u001b[0;32m~/anaconda3/envs/work/lib/python3.8/site-packages/hop_comms/snews_utils.py\u001b[0m in \u001b[0;36mget_detector\u001b[0;34m(detector, detectors_path)\u001b[0m\n\u001b[1;32m     85\u001b[0m     \u001b[0;32mif\u001b[0m \u001b[0misinstance\u001b[0m\u001b[0;34m(\u001b[0m\u001b[0mdetector\u001b[0m\u001b[0;34m,\u001b[0m \u001b[0mDetector\u001b[0m\u001b[0;34m)\u001b[0m\u001b[0;34m:\u001b[0m \u001b[0;32mreturn\u001b[0m \u001b[0mdetector\u001b[0m  \u001b[0;31m# not needed?\u001b[0m\u001b[0;34m\u001b[0m\u001b[0;34m\u001b[0m\u001b[0m\n\u001b[1;32m     86\u001b[0m     \u001b[0;31m# search for the detector name in `detectors`\u001b[0m\u001b[0;34m\u001b[0m\u001b[0;34m\u001b[0m\u001b[0;34m\u001b[0m\u001b[0m\n\u001b[0;32m---> 87\u001b[0;31m     \u001b[0mdetectors\u001b[0m \u001b[0;34m=\u001b[0m \u001b[0mretrieve_detectors\u001b[0m\u001b[0;34m(\u001b[0m\u001b[0mdetectors_path\u001b[0m\u001b[0;34m)\u001b[0m\u001b[0;34m\u001b[0m\u001b[0;34m\u001b[0m\u001b[0m\n\u001b[0m\u001b[1;32m     88\u001b[0m     \u001b[0;32mif\u001b[0m \u001b[0misinstance\u001b[0m\u001b[0;34m(\u001b[0m\u001b[0mdetector\u001b[0m\u001b[0;34m,\u001b[0m \u001b[0mstr\u001b[0m\u001b[0;34m)\u001b[0m\u001b[0;34m:\u001b[0m\u001b[0;34m\u001b[0m\u001b[0;34m\u001b[0m\u001b[0m\n\u001b[1;32m     89\u001b[0m         \u001b[0;32mtry\u001b[0m\u001b[0;34m:\u001b[0m\u001b[0;34m\u001b[0m\u001b[0;34m\u001b[0m\u001b[0m\n",
      "\u001b[0;32m~/anaconda3/envs/work/lib/python3.8/site-packages/hop_comms/snews_utils.py\u001b[0m in \u001b[0;36mretrieve_detectors\u001b[0;34m(detectors_path)\u001b[0m\n\u001b[1;32m     69\u001b[0m         \u001b[0mos\u001b[0m\u001b[0;34m.\u001b[0m\u001b[0msystem\u001b[0m\u001b[0;34m(\u001b[0m\u001b[0;34mf'python hop_comms/auxiliary/make_detector_file.py'\u001b[0m\u001b[0;34m)\u001b[0m\u001b[0;34m\u001b[0m\u001b[0;34m\u001b[0m\u001b[0m\n\u001b[1;32m     70\u001b[0m \u001b[0;34m\u001b[0m\u001b[0m\n\u001b[0;32m---> 71\u001b[0;31m     \u001b[0;32mwith\u001b[0m \u001b[0mopen\u001b[0m\u001b[0;34m(\u001b[0m\u001b[0mdetectors_path\u001b[0m\u001b[0;34m)\u001b[0m \u001b[0;32mas\u001b[0m \u001b[0mjson_file\u001b[0m\u001b[0;34m:\u001b[0m\u001b[0;34m\u001b[0m\u001b[0;34m\u001b[0m\u001b[0m\n\u001b[0m\u001b[1;32m     72\u001b[0m         \u001b[0mdetectors\u001b[0m \u001b[0;34m=\u001b[0m \u001b[0mjson\u001b[0m\u001b[0;34m.\u001b[0m\u001b[0mload\u001b[0m\u001b[0;34m(\u001b[0m\u001b[0mjson_file\u001b[0m\u001b[0;34m)\u001b[0m\u001b[0;34m\u001b[0m\u001b[0;34m\u001b[0m\u001b[0m\n\u001b[1;32m     73\u001b[0m \u001b[0;34m\u001b[0m\u001b[0m\n",
      "\u001b[0;31mFileNotFoundError\u001b[0m: [Errno 2] No such file or directory: 'hop_comms/auxiliary/detector_properties.json'"
     ]
    }
   ],
   "source": [
    "DS_data = data_obs(p_value=0.56, nu_time=nu_t(), machine_time=machine_t())\n",
    "pub.publish(\"DS-20K\", \"CoincidenceTier\", DS_data)\n",
    "\n",
    "time.sleep(0.2)\n",
    "\n",
    "LZ_data = data_obs(p_value=0.67, nu_time=nu_t(), machine_time=machine_t())\n",
    "pub.publish(\"LZ\", \"CoincidenceTier\", LZ_data)\n",
    "\n",
    "time.sleep(0.6)\n",
    "\n",
    "JUNO_data = data_obs(p_value=0.77, nu_time=nu_t(), machine_time=machine_t())\n",
    "pub.publish(\"JUNO\", \"CoincidenceTier\", JUNO_data)\n",
    "\n",
    "time.sleep(0.1)\n",
    "\n",
    "SNO_data = data_obs(p_value=0.47, nu_time=nu_t(), machine_time=machine_t())\n",
    "pub.publish(\"SNO+\", \"CoincidenceTier\", SNO_data)\n",
    "\n",
    "time.sleep(1)\n",
    "\n",
    "DUNE_data = data_obs(p_value=0.55, nu_time=nu_t(), machine_time=machine_t())\n",
    "pub.publish(\"DUNE\", \"CoincidenceTier\", DUNE_data)\n",
    "\n",
    "time.sleep(8)\n",
    "\n",
    "SuperK_data = data_obs(p_value=0.67, nu_time=nu_t())\n",
    "pub.publish(\"Super-K\", \"CoincidenceTier\", SuperK_data)"
   ]
  },
  {
   "cell_type": "code",
   "execution_count": null,
   "id": "458f6bdd-f086-49a2-a24f-534ab1c3843a",
   "metadata": {},
   "outputs": [],
   "source": []
  }
 ],
 "metadata": {
  "kernelspec": {
   "display_name": "Python 3",
   "language": "python",
   "name": "python3"
  },
  "language_info": {
   "codemirror_mode": {
    "name": "ipython",
    "version": 3
   },
   "file_extension": ".py",
   "mimetype": "text/x-python",
   "name": "python",
   "nbconvert_exporter": "python",
   "pygments_lexer": "ipython3",
   "version": "3.8.10"
  }
 },
 "nbformat": 4,
 "nbformat_minor": 5
}
