{
 "cells": [
  {
   "cell_type": "markdown",
   "id": "a48abcfd",
   "metadata": {},
   "source": [
    "## Hop-pub test"
   ]
  },
  {
   "cell_type": "markdown",
   "id": "e301213d",
   "metadata": {},
   "source": [
    "_24th August 2021_ <br>\n",
    "Sebastian Lara-Torres<br>\n",
    "Melih Kara"
   ]
  },
  {
   "cell_type": "markdown",
   "id": "48e6e0c3",
   "metadata": {},
   "source": [
    "**To do:** \n",
    "- Implement Heartbeat messages on a seperate continuously running script? <br>\n",
    "- Should Alert messages be published this way?\n",
    "- Accept Datetime object and convert into str\n",
    "- Accept other input types?\n",
    "- We do not have different topics for different tiers, the content should be modified depending on the tier right? It might make sense to refactor according to this."
   ]
  },
  {
   "cell_type": "code",
   "execution_count": 1,
   "id": "75868ac0",
   "metadata": {},
   "outputs": [],
   "source": [
    "import hop_pub_v02 as hop_pub"
   ]
  },
  {
   "cell_type": "code",
   "execution_count": 2,
   "id": "3f226c67",
   "metadata": {},
   "outputs": [
    {
     "name": "stdout",
     "output_type": "stream",
     "text": [
      "\n",
      "### Publish SNEWS Observation Messages ###\n",
      " Your Python version:3.8.5 (default, Jan 27 2021, 15:41:15) \n",
      "[GCC 9.3.0]\n",
      "Current hop-client version:0.4.0\n",
      "             snews version:0.0.1\n",
      "\n",
      " Publishing to kafka.scimma.org\n",
      " Observation Topic: kafka://kafka.scimma.org/snews.alert-test\n",
      "\n",
      " Submitting messages to the following Tiers;\n",
      "Significance_Tier & Coincidence_Tier & Timing_Tier\n",
      "\n"
     ]
    }
   ],
   "source": [
    "# by default, it still publishes something\n",
    "# can be randomized\n",
    "publisher = hop_pub.Publish_Observation(welcome=True)"
   ]
  },
  {
   "cell_type": "markdown",
   "id": "0e36f7a9",
   "metadata": {},
   "source": [
    "Publishing option can be changed."
   ]
  },
  {
   "cell_type": "code",
   "execution_count": 3,
   "id": "34707203",
   "metadata": {},
   "outputs": [
    {
     "name": "stdout",
     "output_type": "stream",
     "text": [
      "{'Significance_Tier': True, 'Coincidence_Tier': True, 'Timing_Tier': False}\n"
     ]
    }
   ],
   "source": [
    "publisher.publish_to['Timing_Tier'] = False\n",
    "print(publisher.publish_to)"
   ]
  },
  {
   "cell_type": "code",
   "execution_count": 4,
   "id": "904d11f4",
   "metadata": {},
   "outputs": [
    {
     "data": {
      "text/plain": [
       "{'message_id': 0,\n",
       " 'detector_id': 0,\n",
       " 'sent_time': '01/01/01 01:01:01',\n",
       " 'neutrino_time': '01/01/01 01:01:01',\n",
       " 'machine_time': '01/01/01 01:01:01',\n",
       " 'location': 'none',\n",
       " 'p_value': 0,\n",
       " 'status': 'none',\n",
       " 'content': 'none',\n",
       " 'time-series': 0}"
      ]
     },
     "execution_count": 4,
     "metadata": {},
     "output_type": "execute_result"
    }
   ],
   "source": [
    "# default dictionary\n",
    "publisher.msg_dict"
   ]
  },
  {
   "cell_type": "markdown",
   "id": "70ef8bf6",
   "metadata": {},
   "source": [
    "### Message as a dictionary"
   ]
  },
  {
   "cell_type": "code",
   "execution_count": 5,
   "id": "fecfe48e",
   "metadata": {},
   "outputs": [
    {
     "data": {
      "text/plain": [
       "{'message_id': 0,\n",
       " 'detector_id': 0,\n",
       " 'sent_time': '01/01/01 01:01:01',\n",
       " 'neutrino_time': '01/01/01 01:01:01',\n",
       " 'machine_time': '24/08/2021 15:49:55',\n",
       " 'location': 'none',\n",
       " 'p_value': 0,\n",
       " 'status': 'ON',\n",
       " 'content': 'none',\n",
       " 'time-series': 0}"
      ]
     },
     "execution_count": 5,
     "metadata": {},
     "output_type": "execute_result"
    }
   ],
   "source": [
    "message = {'machine_time':'24/08/2021 15:49:55',\n",
    "           'status': 'ON'} # To Do: accept datetime ovject and convert into str\n",
    "publisher = hop_pub.Publish_Observation(msg=message)\n",
    "# Only the value that is changed is overwritten\n",
    "publisher.msg_dict"
   ]
  },
  {
   "cell_type": "code",
   "execution_count": 6,
   "id": "02f06e88",
   "metadata": {},
   "outputs": [
    {
     "name": "stdout",
     "output_type": "stream",
     "text": [
      "\n",
      "Publishing OBS message to Significance_Tier:\n",
      "detector_id         :0\n",
      "machine_time        :24/08/2021 15:49:55\n",
      "neutrino_time       :01/01/01 01:01:01\n",
      "status              :ON\n",
      "p_value             :0\n"
     ]
    },
    {
     "ename": "Exception",
     "evalue": "1 messages remain unsent, some data may have been lost!",
     "output_type": "error",
     "traceback": [
      "\u001b[0;31m---------------------------------------------------------------------------\u001b[0m",
      "\u001b[0;31mException\u001b[0m                                 Traceback (most recent call last)",
      "\u001b[0;32m<ipython-input-6-6a7ba20a889d>\u001b[0m in \u001b[0;36m<module>\u001b[0;34m\u001b[0m\n\u001b[0;32m----> 1\u001b[0;31m \u001b[0mpublisher\u001b[0m\u001b[0;34m.\u001b[0m\u001b[0mpublish_to_tiers\u001b[0m\u001b[0;34m(\u001b[0m\u001b[0;34m)\u001b[0m\u001b[0;34m\u001b[0m\u001b[0;34m\u001b[0m\u001b[0m\n\u001b[0m",
      "\u001b[0;32m/mnt/c/Users/bj7780/Documents/GitHub/hop-SNalert-app/useful_code/hop_pub_v02.py\u001b[0m in \u001b[0;36mpublish_to_tiers\u001b[0;34m(self)\u001b[0m\n\u001b[1;32m    100\u001b[0m                 \u001b[0mstream\u001b[0m \u001b[0;34m=\u001b[0m \u001b[0mStream\u001b[0m\u001b[0;34m(\u001b[0m\u001b[0mpersist\u001b[0m\u001b[0;34m=\u001b[0m\u001b[0;32mFalse\u001b[0m\u001b[0;34m)\u001b[0m\u001b[0;34m\u001b[0m\u001b[0;34m\u001b[0m\u001b[0m\n\u001b[1;32m    101\u001b[0m                 \u001b[0;32mwith\u001b[0m \u001b[0mstream\u001b[0m\u001b[0;34m.\u001b[0m\u001b[0mopen\u001b[0m\u001b[0;34m(\u001b[0m\u001b[0mself\u001b[0m\u001b[0;34m.\u001b[0m\u001b[0mobservation_topic\u001b[0m\u001b[0;34m,\u001b[0m \u001b[0;34m\"w\"\u001b[0m\u001b[0;34m)\u001b[0m \u001b[0;32mas\u001b[0m \u001b[0ms\u001b[0m\u001b[0;34m:\u001b[0m\u001b[0;34m\u001b[0m\u001b[0;34m\u001b[0m\u001b[0m\n\u001b[0;32m--> 102\u001b[0;31m                     \u001b[0ms\u001b[0m\u001b[0;34m.\u001b[0m\u001b[0mwrite\u001b[0m\u001b[0;34m(\u001b[0m\u001b[0mtier_data\u001b[0m\u001b[0;34m)\u001b[0m\u001b[0;34m\u001b[0m\u001b[0;34m\u001b[0m\u001b[0m\n\u001b[0m\u001b[1;32m    103\u001b[0m                 \u001b[0mprint\u001b[0m\u001b[0;34m(\u001b[0m\u001b[0;34mf\"\\nPublishing OBS message to {tier}:\"\u001b[0m\u001b[0;34m)\u001b[0m\u001b[0;34m\u001b[0m\u001b[0;34m\u001b[0m\u001b[0m\n\u001b[1;32m    104\u001b[0m                 \u001b[0;32mfor\u001b[0m \u001b[0mk\u001b[0m\u001b[0;34m,\u001b[0m\u001b[0mv\u001b[0m \u001b[0;32min\u001b[0m \u001b[0mtier_data\u001b[0m\u001b[0;34m.\u001b[0m\u001b[0mitems\u001b[0m\u001b[0;34m(\u001b[0m\u001b[0;34m)\u001b[0m\u001b[0;34m:\u001b[0m\u001b[0;34m\u001b[0m\u001b[0;34m\u001b[0m\u001b[0m\n",
      "\u001b[0;32m~/.local/lib/python3.8/site-packages/hop/io.py\u001b[0m in \u001b[0;36m__exit__\u001b[0;34m(self, *exc)\u001b[0m\n\u001b[1;32m    419\u001b[0m \u001b[0;34m\u001b[0m\u001b[0m\n\u001b[1;32m    420\u001b[0m     \u001b[0;32mdef\u001b[0m \u001b[0m__exit__\u001b[0m\u001b[0;34m(\u001b[0m\u001b[0mself\u001b[0m\u001b[0;34m,\u001b[0m \u001b[0;34m*\u001b[0m\u001b[0mexc\u001b[0m\u001b[0;34m)\u001b[0m\u001b[0;34m:\u001b[0m\u001b[0;34m\u001b[0m\u001b[0;34m\u001b[0m\u001b[0m\n\u001b[0;32m--> 421\u001b[0;31m         \u001b[0;32mreturn\u001b[0m \u001b[0mself\u001b[0m\u001b[0;34m.\u001b[0m\u001b[0m_producer\u001b[0m\u001b[0;34m.\u001b[0m\u001b[0m__exit__\u001b[0m\u001b[0;34m(\u001b[0m\u001b[0;34m*\u001b[0m\u001b[0mexc\u001b[0m\u001b[0;34m)\u001b[0m\u001b[0;34m\u001b[0m\u001b[0;34m\u001b[0m\u001b[0m\n\u001b[0m",
      "\u001b[0;32m~/.local/lib/python3.8/site-packages/adc/producer.py\u001b[0m in \u001b[0;36m__exit__\u001b[0;34m(self, type, value, traceback)\u001b[0m\n\u001b[1;32m     59\u001b[0m             \u001b[0mn_unsent\u001b[0m \u001b[0;34m=\u001b[0m \u001b[0mself\u001b[0m\u001b[0;34m.\u001b[0m\u001b[0mclose\u001b[0m\u001b[0;34m(\u001b[0m\u001b[0;34m)\u001b[0m\u001b[0;34m\u001b[0m\u001b[0;34m\u001b[0m\u001b[0m\n\u001b[1;32m     60\u001b[0m             \u001b[0;32mif\u001b[0m \u001b[0mn_unsent\u001b[0m \u001b[0;34m>\u001b[0m \u001b[0;36m0\u001b[0m\u001b[0;34m:\u001b[0m\u001b[0;34m\u001b[0m\u001b[0;34m\u001b[0m\u001b[0m\n\u001b[0;32m---> 61\u001b[0;31m                 \u001b[0;32mraise\u001b[0m \u001b[0mException\u001b[0m\u001b[0;34m(\u001b[0m\u001b[0;34mf\"{n_unsent} messages remain unsent, some data may have been lost!\"\u001b[0m\u001b[0;34m)\u001b[0m\u001b[0;34m\u001b[0m\u001b[0;34m\u001b[0m\u001b[0m\n\u001b[0m\u001b[1;32m     62\u001b[0m             \u001b[0;32mreturn\u001b[0m \u001b[0;32mFalse\u001b[0m\u001b[0;34m\u001b[0m\u001b[0;34m\u001b[0m\u001b[0m\n\u001b[1;32m     63\u001b[0m         \u001b[0;32mreturn\u001b[0m \u001b[0;32mFalse\u001b[0m\u001b[0;34m\u001b[0m\u001b[0;34m\u001b[0m\u001b[0m\n",
      "\u001b[0;31mException\u001b[0m: 1 messages remain unsent, some data may have been lost!"
     ]
    }
   ],
   "source": [
    "publisher.publish_to_tiers()"
   ]
  },
  {
   "cell_type": "markdown",
   "id": "c890b508",
   "metadata": {},
   "source": [
    "## Issue\n",
    "The `Stream` fails when trying to publish several messages in a short time interval."
   ]
  },
  {
   "cell_type": "code",
   "execution_count": 8,
   "id": "f96a05af",
   "metadata": {},
   "outputs": [],
   "source": [
    "from hop import Stream\n",
    "observation_topic = 'kafka://kafka.scimma.org/snews.experiments-test'"
   ]
  },
  {
   "cell_type": "code",
   "execution_count": 13,
   "id": "821a2d19",
   "metadata": {},
   "outputs": [],
   "source": [
    "message1 = {'test_key1':'test_data1', 'test_key2':'test_data2'}\n",
    "message2 = {'test_key1':'test_data1', 'test_key2':'test_data2', 'test_key3':'test_data3'}\n",
    "message3 = {'test_key2':'test_data2'}"
   ]
  },
  {
   "cell_type": "code",
   "execution_count": 19,
   "id": "a160ae65",
   "metadata": {
    "scrolled": true
   },
   "outputs": [],
   "source": [
    "# publishing one message works\n",
    "stream = Stream(persist=False)\n",
    "with stream.open(observation_topic, \"w\") as s:\n",
    "    s.write(message1)"
   ]
  },
  {
   "cell_type": "code",
   "execution_count": 20,
   "id": "af9eaf3e",
   "metadata": {
    "collapsed": true
   },
   "outputs": [
    {
     "ename": "Exception",
     "evalue": "3 messages remain unsent, some data may have been lost!",
     "output_type": "error",
     "traceback": [
      "\u001b[0;31m---------------------------------------------------------------------------\u001b[0m",
      "\u001b[0;31mException\u001b[0m                                 Traceback (most recent call last)",
      "\u001b[0;32m<ipython-input-20-f63560b2dacb>\u001b[0m in \u001b[0;36m<module>\u001b[0;34m\u001b[0m\n\u001b[1;32m      5\u001b[0m     \u001b[0ms\u001b[0m\u001b[0;34m.\u001b[0m\u001b[0mwrite\u001b[0m\u001b[0;34m(\u001b[0m\u001b[0mmessage1\u001b[0m\u001b[0;34m)\u001b[0m\u001b[0;34m\u001b[0m\u001b[0;34m\u001b[0m\u001b[0m\n\u001b[1;32m      6\u001b[0m     \u001b[0ms\u001b[0m\u001b[0;34m.\u001b[0m\u001b[0mwrite\u001b[0m\u001b[0;34m(\u001b[0m\u001b[0mmessage2\u001b[0m\u001b[0;34m)\u001b[0m\u001b[0;34m\u001b[0m\u001b[0;34m\u001b[0m\u001b[0m\n\u001b[0;32m----> 7\u001b[0;31m     \u001b[0ms\u001b[0m\u001b[0;34m.\u001b[0m\u001b[0mwrite\u001b[0m\u001b[0;34m(\u001b[0m\u001b[0mmessage3\u001b[0m\u001b[0;34m)\u001b[0m\u001b[0;34m\u001b[0m\u001b[0;34m\u001b[0m\u001b[0m\n\u001b[0m",
      "\u001b[0;32m~/.local/lib/python3.8/site-packages/hop/io.py\u001b[0m in \u001b[0;36m__exit__\u001b[0;34m(self, *exc)\u001b[0m\n\u001b[1;32m    419\u001b[0m \u001b[0;34m\u001b[0m\u001b[0m\n\u001b[1;32m    420\u001b[0m     \u001b[0;32mdef\u001b[0m \u001b[0m__exit__\u001b[0m\u001b[0;34m(\u001b[0m\u001b[0mself\u001b[0m\u001b[0;34m,\u001b[0m \u001b[0;34m*\u001b[0m\u001b[0mexc\u001b[0m\u001b[0;34m)\u001b[0m\u001b[0;34m:\u001b[0m\u001b[0;34m\u001b[0m\u001b[0;34m\u001b[0m\u001b[0m\n\u001b[0;32m--> 421\u001b[0;31m         \u001b[0;32mreturn\u001b[0m \u001b[0mself\u001b[0m\u001b[0;34m.\u001b[0m\u001b[0m_producer\u001b[0m\u001b[0;34m.\u001b[0m\u001b[0m__exit__\u001b[0m\u001b[0;34m(\u001b[0m\u001b[0;34m*\u001b[0m\u001b[0mexc\u001b[0m\u001b[0;34m)\u001b[0m\u001b[0;34m\u001b[0m\u001b[0;34m\u001b[0m\u001b[0m\n\u001b[0m",
      "\u001b[0;32m~/.local/lib/python3.8/site-packages/adc/producer.py\u001b[0m in \u001b[0;36m__exit__\u001b[0;34m(self, type, value, traceback)\u001b[0m\n\u001b[1;32m     59\u001b[0m             \u001b[0mn_unsent\u001b[0m \u001b[0;34m=\u001b[0m \u001b[0mself\u001b[0m\u001b[0;34m.\u001b[0m\u001b[0mclose\u001b[0m\u001b[0;34m(\u001b[0m\u001b[0;34m)\u001b[0m\u001b[0;34m\u001b[0m\u001b[0;34m\u001b[0m\u001b[0m\n\u001b[1;32m     60\u001b[0m             \u001b[0;32mif\u001b[0m \u001b[0mn_unsent\u001b[0m \u001b[0;34m>\u001b[0m \u001b[0;36m0\u001b[0m\u001b[0;34m:\u001b[0m\u001b[0;34m\u001b[0m\u001b[0;34m\u001b[0m\u001b[0m\n\u001b[0;32m---> 61\u001b[0;31m                 \u001b[0;32mraise\u001b[0m \u001b[0mException\u001b[0m\u001b[0;34m(\u001b[0m\u001b[0;34mf\"{n_unsent} messages remain unsent, some data may have been lost!\"\u001b[0m\u001b[0;34m)\u001b[0m\u001b[0;34m\u001b[0m\u001b[0;34m\u001b[0m\u001b[0m\n\u001b[0m\u001b[1;32m     62\u001b[0m             \u001b[0;32mreturn\u001b[0m \u001b[0;32mFalse\u001b[0m\u001b[0;34m\u001b[0m\u001b[0;34m\u001b[0m\u001b[0m\n\u001b[1;32m     63\u001b[0m         \u001b[0;32mreturn\u001b[0m \u001b[0;32mFalse\u001b[0m\u001b[0;34m\u001b[0m\u001b[0;34m\u001b[0m\u001b[0m\n",
      "\u001b[0;31mException\u001b[0m: 3 messages remain unsent, some data may have been lost!"
     ]
    }
   ],
   "source": [
    "# one needs to wait couple of seconds before submitting another message\n",
    "# following also fails in both persist=False or True cases\n",
    "stream = Stream(persist=False)\n",
    "with stream.open(observation_topic, \"w\") as s:\n",
    "    s.write(message1)\n",
    "    s.write(message2)\n",
    "    s.write(message3)    "
   ]
  },
  {
   "cell_type": "code",
   "execution_count": 21,
   "id": "14fd68c7",
   "metadata": {},
   "outputs": [
    {
     "name": "stdout",
     "output_type": "stream",
     "text": [
      "\n",
      "The 1th message is sent!\n",
      "test_key1           :test_data1\n",
      "test_key2           :test_data2\n",
      "\n",
      "The 2th message is sent!\n",
      "test_key1           :test_data1\n",
      "test_key2           :test_data2\n",
      "test_key3           :test_data3\n",
      "\n",
      "The 3th message is sent!\n",
      "test_key2           :test_data2\n"
     ]
    }
   ],
   "source": [
    "# open a stream that does not persist\n",
    "# stream = Stream(persist=False)\n",
    "for i, data in enumerate([message1, message2, message3]):\n",
    "    stream = Stream(persist=False)\n",
    "    with stream.open(observation_topic, \"w\") as s:\n",
    "        s.write(data)\n",
    "    print(f'\\nThe {i+1}th message is sent!')\n",
    "    for k,v in data.items():\n",
    "        print(f'{k:<20s}:{v}')"
   ]
  },
  {
   "cell_type": "code",
   "execution_count": null,
   "id": "e32d401a",
   "metadata": {},
   "outputs": [],
   "source": []
  },
  {
   "cell_type": "code",
   "execution_count": 65,
   "id": "46e452d1",
   "metadata": {},
   "outputs": [],
   "source": [
    "def isnotebook():\n",
    "    try:\n",
    "        shell = get_ipython().__class__.__name__\n",
    "        if shell == 'ZMQInteractiveShell':\n",
    "            return True   # Jupyter notebook or qtconsole\n",
    "        elif shell == 'TerminalInteractiveShell':\n",
    "            return False  # Terminal running IPython\n",
    "        else:\n",
    "            return False  # Other type (?)\n",
    "    except NameError:\n",
    "        return False      # Probably standard Python interpreter"
   ]
  },
  {
   "cell_type": "code",
   "execution_count": 66,
   "id": "6aebe66c",
   "metadata": {},
   "outputs": [
    {
     "data": {
      "text/plain": [
       "True"
      ]
     },
     "execution_count": 66,
     "metadata": {},
     "output_type": "execute_result"
    }
   ],
   "source": [
    "isnotebook()"
   ]
  },
  {
   "cell_type": "code",
   "execution_count": 16,
   "id": "2f726206",
   "metadata": {},
   "outputs": [
    {
     "name": "stdout",
     "output_type": "stream",
     "text": [
      "Are you authorized to send alert messages? [y/n]y\n"
     ]
    },
    {
     "data": {
      "text/html": [
       "<img src=https://im.ezgif.com/tmp/ezgif-1-719febc3dfb2.gif>"
      ],
      "text/plain": [
       "<IPython.core.display.HTML object>"
      ]
     },
     "metadata": {},
     "output_type": "display_data"
    }
   ],
   "source": [
    "from IPython.display import HTML, display\n",
    "\n",
    "giphy_experiments = \"https://im.ezgif.com/tmp/ezgif-1-5da44911f4c4.gif\"\n",
    "giphy_snews = \"https://im.ezgif.com/tmp/ezgif-1-719febc3dfb2.gif\"\n",
    "answer = input('Are you authorized to send alert messages? [y/n]')\n",
    "if answer.lower() == 'y':\n",
    "    display(HTML(f'<img src={giphy_snews}>'))\n",
    "else:\n",
    "    display(HTML(f'<img src={giphy_experiments}>'))"
   ]
  },
  {
   "cell_type": "code",
   "execution_count": 12,
   "id": "28169900",
   "metadata": {},
   "outputs": [
    {
     "data": {
      "text/html": [
       "<ol><li>☐ Buy milk</li><li>☐ Do homework</li><li>☑ Play video games</li></ol>"
      ],
      "text/plain": [
       "<__main__.Todo at 0x7f54c55c2970>"
      ]
     },
     "execution_count": 12,
     "metadata": {},
     "output_type": "execute_result"
    }
   ],
   "source": [
    "from html import escape # Python 3 only :-)\n",
    "\n",
    "class Todo:\n",
    "    def __init__(self):\n",
    "        self.items = []\n",
    "\n",
    "    def add(self, text, completed):\n",
    "        self.items.append({'text': text, 'completed': completed})\n",
    "\n",
    "    def _repr_html_(self):\n",
    "        return \"<ol>{}</ol>\".format(\"\".join(\"<li>{} {}</li>\".format(\n",
    "            \"☑\" if item['completed'] else \"☐\",\n",
    "            escape(item['text'])\n",
    "        ) for item in self.items))\n",
    "\n",
    "my_todo = Todo()\n",
    "my_todo.add(\"Buy milk\", False)\n",
    "my_todo.add(\"Do homework\", False)\n",
    "my_todo.add(\"Play video games\", True)\n",
    "\n",
    "my_todo"
   ]
  },
  {
   "cell_type": "markdown",
   "id": "a190121b",
   "metadata": {},
   "source": [
    "---"
   ]
  },
  {
   "cell_type": "code",
   "execution_count": 59,
   "id": "0bccead9",
   "metadata": {},
   "outputs": [],
   "source": [
    "from dotenv import load_dotenv\n",
    "from datetime import datetime\n",
    "from collections import namedtuple\n",
    "import os\n",
    "\n",
    "class TimeStuff:\n",
    "    def __init__(self, env=None):\n",
    "        set_env(env)\n",
    "        self.snews_t_format = os.getenv(\"TIME_STRING_FORMAT\")\n",
    "        self.hour_fmt = \"%H:%M:%S\"\n",
    "        self.date_fmt = \"%y_%m_%d\"\n",
    "        \n",
    "        self.get_datetime = datetime.utcnow()\n",
    "        self.get_snews_time = lambda fmt=self.snews_t_format : datetime.utcnow().strftime(fmt)\n",
    "        self.get_hour = lambda fmt=self.hour_fmt : datetime.utcnow().strftime(fmt)\n",
    "        self.get_date = lambda fmt=self.date_fmt : datetime.utcnow().strftime(fmt)"
   ]
  },
  {
   "cell_type": "code",
   "execution_count": null,
   "id": "3b56b481",
   "metadata": {},
   "outputs": [],
   "source": []
  },
  {
   "cell_type": "code",
   "execution_count": 60,
   "id": "d27f4506",
   "metadata": {},
   "outputs": [
    {
     "data": {
      "text/plain": [
       "'09:07:07'"
      ]
     },
     "execution_count": 60,
     "metadata": {},
     "output_type": "execute_result"
    }
   ],
   "source": [
    "datetime.utcnow().strftime(\"%H:%M:%S\")"
   ]
  },
  {
   "cell_type": "code",
   "execution_count": 62,
   "id": "fe1c5671",
   "metadata": {},
   "outputs": [
    {
     "name": "stdout",
     "output_type": "stream",
     "text": [
      "2021-08-27 09:07:15.398744\n",
      "21/08/27 09:07:15\n",
      "09:07:15\n",
      "21_08_27\n"
     ]
    }
   ],
   "source": [
    "a = TimeStuff()\n",
    "print(a.get_datetime)\n",
    "print(a.get_snews_time())\n",
    "print(a.get_hour())\n",
    "print(a.get_date())"
   ]
  },
  {
   "cell_type": "code",
   "execution_count": 33,
   "id": "7bb86e6e",
   "metadata": {},
   "outputs": [
    {
     "name": "stdout",
     "output_type": "stream",
     "text": [
      "astimezone\t <built-in method astimezone of datetime.datetime object at 0x7f8b13757de0>\n",
      "combine\t <built-in method combine of type object at 0x92ab80>\n",
      "ctime\t <built-in method ctime of datetime.datetime object at 0x7f8b13757de0>\n",
      "date\t <built-in method date of datetime.datetime object at 0x7f8b13757de0>\n",
      "day\t 27\n",
      "dst\t <built-in method dst of datetime.datetime object at 0x7f8b13757de0>\n",
      "fold\t 0\n",
      "fromisocalendar\t <built-in method fromisocalendar of type object at 0x92ab80>\n",
      "fromisoformat\t <built-in method fromisoformat of type object at 0x92ab80>\n",
      "fromordinal\t <built-in method fromordinal of type object at 0x92ab80>\n",
      "fromtimestamp\t <built-in method fromtimestamp of type object at 0x92ab80>\n",
      "hour\t 8\n",
      "isocalendar\t <built-in method isocalendar of datetime.datetime object at 0x7f8b13757de0>\n",
      "isoformat\t <built-in method isoformat of datetime.datetime object at 0x7f8b13757de0>\n",
      "isoweekday\t <built-in method isoweekday of datetime.datetime object at 0x7f8b13757de0>\n",
      "max\t 9999-12-31 23:59:59.999999\n",
      "microsecond\t 820370\n",
      "min\t 0001-01-01 00:00:00\n",
      "minute\t 53\n",
      "month\t 8\n",
      "now\t <built-in method now of type object at 0x92ab80>\n",
      "replace\t <built-in method replace of datetime.datetime object at 0x7f8b13757de0>\n",
      "resolution\t 0:00:00.000001\n",
      "second\t 52\n",
      "strftime\t <built-in method strftime of datetime.datetime object at 0x7f8b13757de0>\n",
      "strptime\t <built-in method strptime of type object at 0x92ab80>\n",
      "time\t <built-in method time of datetime.datetime object at 0x7f8b13757de0>\n",
      "timestamp\t <built-in method timestamp of datetime.datetime object at 0x7f8b13757de0>\n",
      "timetuple\t <built-in method timetuple of datetime.datetime object at 0x7f8b13757de0>\n",
      "timetz\t <built-in method timetz of datetime.datetime object at 0x7f8b13757de0>\n",
      "today\t <built-in method today of type object at 0x92ab80>\n",
      "toordinal\t <built-in method toordinal of datetime.datetime object at 0x7f8b13757de0>\n",
      "tzinfo\t None\n",
      "tzname\t <built-in method tzname of datetime.datetime object at 0x7f8b13757de0>\n",
      "utcfromtimestamp\t <built-in method utcfromtimestamp of type object at 0x92ab80>\n",
      "utcnow\t <built-in method utcnow of type object at 0x92ab80>\n",
      "utcoffset\t <built-in method utcoffset of datetime.datetime object at 0x7f8b13757de0>\n",
      "utctimetuple\t <built-in method utctimetuple of datetime.datetime object at 0x7f8b13757de0>\n",
      "weekday\t <built-in method weekday of datetime.datetime object at 0x7f8b13757de0>\n",
      "year\t 2021\n"
     ]
    }
   ],
   "source": [
    "b = datetime.utcnow() #a.get_snews_time_str()\n",
    "for i in dir(b):\n",
    "    if '__' not in i:\n",
    "        print(f\"{i}\\t\", getattr(b, i))"
   ]
  },
  {
   "cell_type": "code",
   "execution_count": 37,
   "id": "ea7fcd4b",
   "metadata": {},
   "outputs": [
    {
     "data": {
      "text/plain": [
       "8"
      ]
     },
     "execution_count": 37,
     "metadata": {},
     "output_type": "execute_result"
    }
   ],
   "source": [
    "b.hour()"
   ]
  },
  {
   "cell_type": "code",
   "execution_count": null,
   "id": "ffe8ee18",
   "metadata": {},
   "outputs": [],
   "source": []
  }
 ],
 "metadata": {
  "kernelspec": {
   "display_name": "Python 3",
   "language": "python",
   "name": "python3"
  },
  "language_info": {
   "codemirror_mode": {
    "name": "ipython",
    "version": 3
   },
   "file_extension": ".py",
   "mimetype": "text/x-python",
   "name": "python",
   "nbconvert_exporter": "python",
   "pygments_lexer": "ipython3",
   "version": "3.8.5"
  }
 },
 "nbformat": 4,
 "nbformat_minor": 5
}
