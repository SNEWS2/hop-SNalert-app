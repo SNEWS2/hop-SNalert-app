{
 "cells": [
  {
   "cell_type": "markdown",
   "id": "a48abcfd",
   "metadata": {},
   "source": [
    "## Hop-pub test"
   ]
  },
  {
   "cell_type": "markdown",
   "id": "e301213d",
   "metadata": {},
   "source": [
    "_24th August 2021_ <br>\n",
    "Sebastian Lara-Torres<br>\n",
    "Melih Kara"
   ]
  },
  {
   "cell_type": "markdown",
   "id": "48e6e0c3",
   "metadata": {},
   "source": [
    "**To do:** \n",
    "- Implement Heartbeat messages on a seperate continuously running script? <br>\n",
    "- Should Alert messages be published this way?\n",
    "- Accept Datetime object and convert into str\n",
    "- Accept other input types?\n",
    "- We do not have different topics for different tiers, the content should be modified depending on the tier right? It might make sense to refactor according to this."
   ]
  },
  {
   "cell_type": "code",
   "execution_count": 1,
   "id": "75868ac0",
   "metadata": {},
   "outputs": [],
   "source": [
    "import hop_pub_v02 as hop_pub"
   ]
  },
  {
   "cell_type": "code",
   "execution_count": 2,
   "id": "3f226c67",
   "metadata": {},
   "outputs": [
    {
     "name": "stdout",
     "output_type": "stream",
     "text": [
      "\n",
      "### Publish SNEWS Observation Messages ###\n",
      " Your Python version:3.8.5 (default, Jan 27 2021, 15:41:15) \n",
      "[GCC 9.3.0]\n",
      "Current hop-client version:0.4.0\n",
      "             snews version:0.0.1\n",
      "\n",
      " Publishing to kafka.scimma.org\n",
      " Observation Topic: kafka://kafka.scimma.org/snews.alert-test\n",
      "\n",
      " Submitting messages to the following Tiers;\n",
      "Significance_Tier & Coincidence_Tier & Timing_Tier\n",
      "\n"
     ]
    }
   ],
   "source": [
    "# by default, it still publishes something\n",
    "# can be randomized\n",
    "publisher = hop_pub.Publish_Observation(welcome=True)"
   ]
  },
  {
   "cell_type": "markdown",
   "id": "0e36f7a9",
   "metadata": {},
   "source": [
    "Publishing option can be changed."
   ]
  },
  {
   "cell_type": "code",
   "execution_count": 3,
   "id": "34707203",
   "metadata": {},
   "outputs": [
    {
     "name": "stdout",
     "output_type": "stream",
     "text": [
      "{'Significance_Tier': True, 'Coincidence_Tier': True, 'Timing_Tier': False}\n"
     ]
    }
   ],
   "source": [
    "publisher.publish_to['Timing_Tier'] = False\n",
    "print(publisher.publish_to)"
   ]
  },
  {
   "cell_type": "code",
   "execution_count": 4,
   "id": "904d11f4",
   "metadata": {},
   "outputs": [
    {
     "data": {
      "text/plain": [
       "{'message_id': 0,\n",
       " 'detector_id': 0,\n",
       " 'sent_time': '01/01/01 01:01:01',\n",
       " 'neutrino_time': '01/01/01 01:01:01',\n",
       " 'machine_time': '01/01/01 01:01:01',\n",
       " 'location': 'none',\n",
       " 'p_value': 0,\n",
       " 'status': 'none',\n",
       " 'content': 'none',\n",
       " 'time-series': 0}"
      ]
     },
     "execution_count": 4,
     "metadata": {},
     "output_type": "execute_result"
    }
   ],
   "source": [
    "# default dictionary\n",
    "publisher.msg_dict"
   ]
  },
  {
   "cell_type": "markdown",
   "id": "70ef8bf6",
   "metadata": {},
   "source": [
    "### Message as a dictionary"
   ]
  },
  {
   "cell_type": "code",
   "execution_count": 5,
   "id": "fecfe48e",
   "metadata": {},
   "outputs": [
    {
     "data": {
      "text/plain": [
       "{'message_id': 0,\n",
       " 'detector_id': 0,\n",
       " 'sent_time': '01/01/01 01:01:01',\n",
       " 'neutrino_time': '01/01/01 01:01:01',\n",
       " 'machine_time': '24/08/2021 15:49:55',\n",
       " 'location': 'none',\n",
       " 'p_value': 0,\n",
       " 'status': 'ON',\n",
       " 'content': 'none',\n",
       " 'time-series': 0}"
      ]
     },
     "execution_count": 5,
     "metadata": {},
     "output_type": "execute_result"
    }
   ],
   "source": [
    "message = {'machine_time':'24/08/2021 15:49:55',\n",
    "           'status': 'ON'} # To Do: accept datetime ovject and convert into str\n",
    "publisher = hop_pub.Publish_Observation(msg=message)\n",
    "# Only the value that is changed is overwritten\n",
    "publisher.msg_dict"
   ]
  },
  {
   "cell_type": "code",
   "execution_count": 11,
   "id": "02f06e88",
   "metadata": {
    "scrolled": false
   },
   "outputs": [
    {
     "name": "stdout",
     "output_type": "stream",
     "text": [
      "\n",
      "Publishing OBS message to Significance_Tier:\n",
      "detector_id         :0\n",
      "machine_time        :24/08/2021 15:49:55\n",
      "neutrino_time       :01/01/01 01:01:01\n",
      "status              :ON\n",
      "p_value             :0\n",
      "\n",
      "Publishing OBS message to Coincidence_Tier:\n",
      "detector_id         :0\n",
      "machine_time        :24/08/2021 15:49:55\n",
      "neutrino_time       :01/01/01 01:01:01\n",
      "status              :ON\n"
     ]
    },
    {
     "ename": "Exception",
     "evalue": "1 messages remain unsent, some data may have been lost!",
     "output_type": "error",
     "traceback": [
      "\u001b[0;31m---------------------------------------------------------------------------\u001b[0m",
      "\u001b[0;31mException\u001b[0m                                 Traceback (most recent call last)",
      "\u001b[0;32m<ipython-input-11-6a7ba20a889d>\u001b[0m in \u001b[0;36m<module>\u001b[0;34m\u001b[0m\n\u001b[0;32m----> 1\u001b[0;31m \u001b[0mpublisher\u001b[0m\u001b[0;34m.\u001b[0m\u001b[0mpublish_to_tiers\u001b[0m\u001b[0;34m(\u001b[0m\u001b[0;34m)\u001b[0m\u001b[0;34m\u001b[0m\u001b[0;34m\u001b[0m\u001b[0m\n\u001b[0m",
      "\u001b[0;32m/mnt/c/Users/bj7780/Desktop/Kara/XENON/SNEWS/SNEWS_dev/hop_pub_v02.py\u001b[0m in \u001b[0;36mpublish_to_tiers\u001b[0;34m(self)\u001b[0m\n\u001b[1;32m     71\u001b[0m                     \u001b[0mprint\u001b[0m\u001b[0;34m(\u001b[0m\u001b[0;34mf\"\\nPublishing OBS message to {tier}:\"\u001b[0m\u001b[0;34m)\u001b[0m\u001b[0;34m\u001b[0m\u001b[0;34m\u001b[0m\u001b[0m\n\u001b[1;32m     72\u001b[0m                     \u001b[0;32mfor\u001b[0m \u001b[0mk\u001b[0m\u001b[0;34m,\u001b[0m\u001b[0mv\u001b[0m \u001b[0;32min\u001b[0m \u001b[0mtier_data\u001b[0m\u001b[0;34m.\u001b[0m\u001b[0mitems\u001b[0m\u001b[0;34m(\u001b[0m\u001b[0;34m)\u001b[0m\u001b[0;34m:\u001b[0m\u001b[0;34m\u001b[0m\u001b[0;34m\u001b[0m\u001b[0m\n\u001b[0;32m---> 73\u001b[0;31m                           \u001b[0mprint\u001b[0m\u001b[0;34m(\u001b[0m\u001b[0;34mf'{k:<20s}:{v}'\u001b[0m\u001b[0;34m)\u001b[0m\u001b[0;34m\u001b[0m\u001b[0;34m\u001b[0m\u001b[0m\n\u001b[0m\u001b[1;32m     74\u001b[0m \u001b[0;34m\u001b[0m\u001b[0m\n\u001b[1;32m     75\u001b[0m \u001b[0;34m\u001b[0m\u001b[0m\n",
      "\u001b[0;32m~/.local/lib/python3.8/site-packages/hop/io.py\u001b[0m in \u001b[0;36m__exit__\u001b[0;34m(self, *exc)\u001b[0m\n\u001b[1;32m    419\u001b[0m \u001b[0;34m\u001b[0m\u001b[0m\n\u001b[1;32m    420\u001b[0m     \u001b[0;32mdef\u001b[0m \u001b[0m__exit__\u001b[0m\u001b[0;34m(\u001b[0m\u001b[0mself\u001b[0m\u001b[0;34m,\u001b[0m \u001b[0;34m*\u001b[0m\u001b[0mexc\u001b[0m\u001b[0;34m)\u001b[0m\u001b[0;34m:\u001b[0m\u001b[0;34m\u001b[0m\u001b[0;34m\u001b[0m\u001b[0m\n\u001b[0;32m--> 421\u001b[0;31m         \u001b[0;32mreturn\u001b[0m \u001b[0mself\u001b[0m\u001b[0;34m.\u001b[0m\u001b[0m_producer\u001b[0m\u001b[0;34m.\u001b[0m\u001b[0m__exit__\u001b[0m\u001b[0;34m(\u001b[0m\u001b[0;34m*\u001b[0m\u001b[0mexc\u001b[0m\u001b[0;34m)\u001b[0m\u001b[0;34m\u001b[0m\u001b[0;34m\u001b[0m\u001b[0m\n\u001b[0m",
      "\u001b[0;32m~/.local/lib/python3.8/site-packages/adc/producer.py\u001b[0m in \u001b[0;36m__exit__\u001b[0;34m(self, type, value, traceback)\u001b[0m\n\u001b[1;32m     59\u001b[0m             \u001b[0mn_unsent\u001b[0m \u001b[0;34m=\u001b[0m \u001b[0mself\u001b[0m\u001b[0;34m.\u001b[0m\u001b[0mclose\u001b[0m\u001b[0;34m(\u001b[0m\u001b[0;34m)\u001b[0m\u001b[0;34m\u001b[0m\u001b[0;34m\u001b[0m\u001b[0m\n\u001b[1;32m     60\u001b[0m             \u001b[0;32mif\u001b[0m \u001b[0mn_unsent\u001b[0m \u001b[0;34m>\u001b[0m \u001b[0;36m0\u001b[0m\u001b[0;34m:\u001b[0m\u001b[0;34m\u001b[0m\u001b[0;34m\u001b[0m\u001b[0m\n\u001b[0;32m---> 61\u001b[0;31m                 \u001b[0;32mraise\u001b[0m \u001b[0mException\u001b[0m\u001b[0;34m(\u001b[0m\u001b[0;34mf\"{n_unsent} messages remain unsent, some data may have been lost!\"\u001b[0m\u001b[0;34m)\u001b[0m\u001b[0;34m\u001b[0m\u001b[0;34m\u001b[0m\u001b[0m\n\u001b[0m\u001b[1;32m     62\u001b[0m             \u001b[0;32mreturn\u001b[0m \u001b[0;32mFalse\u001b[0m\u001b[0;34m\u001b[0m\u001b[0;34m\u001b[0m\u001b[0m\n\u001b[1;32m     63\u001b[0m         \u001b[0;32mreturn\u001b[0m \u001b[0;32mFalse\u001b[0m\u001b[0;34m\u001b[0m\u001b[0;34m\u001b[0m\u001b[0m\n",
      "\u001b[0;31mException\u001b[0m: 1 messages remain unsent, some data may have been lost!"
     ]
    }
   ],
   "source": [
    "publisher.publish_to_tiers()"
   ]
  },
  {
   "cell_type": "code",
   "execution_count": null,
   "id": "821a2d19",
   "metadata": {},
   "outputs": [],
   "source": []
  }
 ],
 "metadata": {
  "kernelspec": {
   "display_name": "Python 3",
   "language": "python",
   "name": "python3"
  },
  "language_info": {
   "codemirror_mode": {
    "name": "ipython",
    "version": 3
   },
   "file_extension": ".py",
   "mimetype": "text/x-python",
   "name": "python",
   "nbconvert_exporter": "python",
   "pygments_lexer": "ipython3",
   "version": "3.8.5"
  }
 },
 "nbformat": 4,
 "nbformat_minor": 5
}
