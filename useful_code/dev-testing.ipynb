{
 "cells": [
  {
   "cell_type": "markdown",
   "id": "6f2d8643",
   "metadata": {},
   "source": [
    "# Hop-pub functions"
   ]
  },
  {
   "cell_type": "markdown",
   "id": "65610884",
   "metadata": {},
   "source": [
    "Sebastian Torres-Lara<br>\n",
    "Melih Kara<br>\n",
    "26-08-2021"
   ]
  },
  {
   "cell_type": "markdown",
   "id": "dbdff061",
   "metadata": {},
   "source": [
    "Todo: \n",
    "- Check how the heartbeat runs in the background. \n",
    "- Check if `SNEWSObservation` and `SNEWSHeartbeat` are good enough or if they can be improved <br>\n",
    "- For me (Melih) publising often fails (simple hop publish) for some reason. Need to investigate."
   ]
  },
  {
   "cell_type": "markdown",
   "id": "e1afae6e",
   "metadata": {},
   "source": [
    "```python\n",
    "return SNEWSObservation(message_id=str(uuid.uuid4()),\n",
    "                        detector_id=self.detector.id,\n",
    "                        sent_time=self.time_str(), \n",
    "                        neutrino_time=self.time_str(), \n",
    "                        machine_time=self.time_str(), \n",
    "                        location=self.detector.location,\n",
    "                        p_value=0.5,\n",
    "                        status=\"none\",\n",
    "                        content=\"none\").asdict()\n",
    "```\n",
    "SNEWSObservation requires all fields to be filled for the different piers the idea is the opposite. <br>\n",
    "we should be able to not-return some of the fields. <br>\n",
    "\n",
    "**-** Maybe fill the empty sections with `'none'` ?"
   ]
  },
  {
   "cell_type": "markdown",
   "id": "2a391167",
   "metadata": {},
   "source": [
    "## Application"
   ]
  },
  {
   "cell_type": "code",
   "execution_count": 1,
   "id": "5418d888",
   "metadata": {},
   "outputs": [],
   "source": [
    "from hop_pub import Publish_Observation, Publish_Heartbeat"
   ]
  },
  {
   "cell_type": "markdown",
   "id": "cae59fb0",
   "metadata": {},
   "source": [
    "First create an object with the information. <br>\n",
    "Below, the `Publish_Observation` can have \n",
    "- `message` argument as a dictionary, `SNEWSObservation` or `SNEWSHeartbeat` objects, a file path containing a json or a dictionary. <br>\n",
    "- `detector` argument can also be specified in which case the object knows its ID and location. If not given, it takes a detector called 'TEST'. <br>\n",
    "- `env_path` as a string containing the broker, time formatting and other information. If not specified, uses the deafult environment 'test_env.env'<vr>\n",
    "- If `welcome` argument is set, it displays the versions and the connected topics."
   ]
  },
  {
   "cell_type": "code",
   "execution_count": 2,
   "id": "da1d8fcc",
   "metadata": {
    "scrolled": true
   },
   "outputs": [
    {
     "name": "stdout",
     "output_type": "stream",
     "text": [
      "##################################################\n",
      "#       Publish SNEWS OBSERVATION Messages       #\n",
      "#____________________XENONnT_____________________#\n",
      "#_________________19-loc XENONnT_________________#\n",
      "##################################################\n",
      "Your Python version:\n",
      " 3.8.5 (default, Jan 27 2021, 15:41:15) \n",
      "[GCC 9.3.0]\n",
      "Current hop-client version:0.4.0\n",
      "             snews version:0.0.1\n",
      "\n",
      "Publishing to kafka.scimma.org\n",
      "Observation Topic:\n",
      "==> kafka://kafka.scimma.org/snews.experiments-test\n",
      "Heartbeat Topic:\n",
      "==> kafka://kafka.scimma.org/snews.experiments-test\n",
      "\n",
      "\n"
     ]
    }
   ],
   "source": [
    "publisher = Publish_Observation(detector='XENONnT', welcome=True)"
   ]
  },
  {
   "cell_type": "code",
   "execution_count": 3,
   "id": "868dcfd7",
   "metadata": {},
   "outputs": [
    {
     "data": {
      "text/plain": [
       "['detector_id', 'machine_time', 'neutrino_time', 'status', 'p_value']"
      ]
     },
     "execution_count": 3,
     "metadata": {},
     "output_type": "execute_result"
    }
   ],
   "source": [
    "publisher.tier_keys_['Significance_Tier']"
   ]
  },
  {
   "cell_type": "markdown",
   "id": "72f91848",
   "metadata": {},
   "source": [
    "### See & Modify the message before publishing"
   ]
  },
  {
   "cell_type": "markdown",
   "id": "84091130",
   "metadata": {},
   "source": [
    "If no message fed in the beginning, it produces a default one like the following. <br>\n",
    "One can add, or modify the fields."
   ]
  },
  {
   "cell_type": "code",
   "execution_count": 4,
   "id": "f36ab444",
   "metadata": {},
   "outputs": [
    {
     "name": "stdout",
     "output_type": "stream",
     "text": [
      "Following OBS message to be published:\n",
      "Current time:21/08/30 12:35:04\n",
      "\n",
      "message_id          :19_O_21/08/30_12:35:04\n",
      "detector_id         :19\n",
      "sent_time           :21/08/30 12:35:04\n",
      "neutrino_time       :21/08/30 12:35:04\n",
      "machine_time        :21/08/30 12:35:04\n",
      "location            :loc XENONnT\n",
      "p_value             :0\n",
      "status              :none\n",
      "content             :none\n",
      "\n",
      "> modify self.message_dict or \n",
      "> use .publish_to_tiers() method to publish (see .publish_to)\n"
     ]
    }
   ],
   "source": [
    "publisher.display_message()"
   ]
  },
  {
   "cell_type": "code",
   "execution_count": 5,
   "id": "8d288242",
   "metadata": {},
   "outputs": [
    {
     "name": "stdout",
     "output_type": "stream",
     "text": [
      "Following OBS message to be published:\n",
      "Current time:21/08/30 12:35:04\n",
      "\n",
      "message_id          :19_O_21/08/30_12:35:04\n",
      "detector_id         :19\n",
      "sent_time           :21/08/30 12:35:04\n",
      "neutrino_time       :21/08/30 12:35:04\n",
      "machine_time        :21/08/30 12:35:04\n",
      "location            :loc XENONnT\n",
      "p_value             :0\n",
      "status              :none\n",
      "content             :This is a modified content\n",
      "New Field           :This is a new field2\n",
      "\n",
      "> modify self.message_dict or \n",
      "> use .publish_to_tiers() method to publish (see .publish_to)\n"
     ]
    }
   ],
   "source": [
    "# modify the content and add a non-existing field\n",
    "publisher.message_dict['content'] = 'This is a modified content'\n",
    "publisher.message_dict['New Field'] = 'This is a new field'\n",
    "publisher.display_message()"
   ]
  },
  {
   "cell_type": "markdown",
   "id": "2170e39d",
   "metadata": {},
   "source": [
    "### Submission to Different Tiers"
   ]
  },
  {
   "cell_type": "markdown",
   "id": "48700be6",
   "metadata": {},
   "source": [
    "Here, it is not clear to me conceptually. There is only one topic that the experiments can publish their messages. <br>\n",
    "The different Tiers should be based on the content of the messages. Currently, the script does this by taking only the fields relevant for that tier. See ``"
   ]
  },
  {
   "cell_type": "code",
   "execution_count": 6,
   "id": "fb2addc2",
   "metadata": {},
   "outputs": [
    {
     "name": "stdout",
     "output_type": "stream",
     "text": [
      "{'Significance_Tier': True, 'Coincidence_Tier': True, 'Timing_Tier': True}\n",
      "{'Significance_Tier': True, 'Coincidence_Tier': True, 'Timing_Tier': False}\n"
     ]
    }
   ],
   "source": [
    "# See which tiers are connected\n",
    "print(publisher.publish_to)\n",
    "publisher.publish_to['Timing_Tier'] = False\n",
    "print(publisher.publish_to)"
   ]
  },
  {
   "cell_type": "code",
   "execution_count": 7,
   "id": "8efd733f",
   "metadata": {},
   "outputs": [],
   "source": [
    "# publisher.publish_to_tiers() # might fail"
   ]
  },
  {
   "cell_type": "markdown",
   "id": "8bab95e3",
   "metadata": {},
   "source": [
    "---\n",
    "**Publish the message**"
   ]
  },
  {
   "cell_type": "code",
   "execution_count": 13,
   "id": "99ba4479",
   "metadata": {},
   "outputs": [
    {
     "ename": "Exception",
     "evalue": "1 messages remain unsent, some data may have been lost!",
     "output_type": "error",
     "traceback": [
      "\u001b[0;31m---------------------------------------------------------------------------\u001b[0m",
      "\u001b[0;31mException\u001b[0m                                 Traceback (most recent call last)",
      "\u001b[0;32m<ipython-input-13-57e35dd01b32>\u001b[0m in \u001b[0;36m<module>\u001b[0;34m\u001b[0m\n\u001b[0;32m----> 1\u001b[0;31m \u001b[0mpublisher\u001b[0m\u001b[0;34m.\u001b[0m\u001b[0mpublish\u001b[0m\u001b[0;34m(\u001b[0m\u001b[0;34m)\u001b[0m\u001b[0;34m\u001b[0m\u001b[0;34m\u001b[0m\u001b[0m\n\u001b[0m",
      "\u001b[0;32m/mnt/c/Users/bj7780/Documents/GitHub/hop-SNalert-app/useful_code/hop_pub.py\u001b[0m in \u001b[0;36mpublish\u001b[0;34m(self)\u001b[0m\n\u001b[1;32m    138\u001b[0m         \u001b[0mstream\u001b[0m \u001b[0;34m=\u001b[0m \u001b[0mStream\u001b[0m\u001b[0;34m(\u001b[0m\u001b[0mpersist\u001b[0m\u001b[0;34m=\u001b[0m\u001b[0;32mFalse\u001b[0m\u001b[0;34m)\u001b[0m\u001b[0;34m\u001b[0m\u001b[0;34m\u001b[0m\u001b[0m\n\u001b[1;32m    139\u001b[0m         \u001b[0;32mwith\u001b[0m \u001b[0mstream\u001b[0m\u001b[0;34m.\u001b[0m\u001b[0mopen\u001b[0m\u001b[0;34m(\u001b[0m\u001b[0mself\u001b[0m\u001b[0;34m.\u001b[0m\u001b[0mobservation_topic\u001b[0m\u001b[0;34m,\u001b[0m \u001b[0;34m\"w\"\u001b[0m\u001b[0;34m)\u001b[0m \u001b[0;32mas\u001b[0m \u001b[0ms\u001b[0m\u001b[0;34m:\u001b[0m\u001b[0;34m\u001b[0m\u001b[0;34m\u001b[0m\u001b[0m\n\u001b[0;32m--> 140\u001b[0;31m             \u001b[0ms\u001b[0m\u001b[0;34m.\u001b[0m\u001b[0mwrite\u001b[0m\u001b[0;34m(\u001b[0m\u001b[0mobs_message\u001b[0m\u001b[0;34m)\u001b[0m\u001b[0;34m\u001b[0m\u001b[0;34m\u001b[0m\u001b[0m\n\u001b[0m\u001b[1;32m    141\u001b[0m         \u001b[0mprint\u001b[0m\u001b[0;34m(\u001b[0m\u001b[0;34mf\"\\nPublished OBS message to {self.observation_topic}:\"\u001b[0m\u001b[0;34m)\u001b[0m\u001b[0;34m\u001b[0m\u001b[0;34m\u001b[0m\u001b[0m\n\u001b[1;32m    142\u001b[0m         \u001b[0;32mfor\u001b[0m \u001b[0mk\u001b[0m\u001b[0;34m,\u001b[0m\u001b[0mv\u001b[0m \u001b[0;32min\u001b[0m \u001b[0mobs_message\u001b[0m\u001b[0;34m.\u001b[0m\u001b[0mitems\u001b[0m\u001b[0;34m(\u001b[0m\u001b[0;34m)\u001b[0m\u001b[0;34m:\u001b[0m\u001b[0;34m\u001b[0m\u001b[0;34m\u001b[0m\u001b[0m\n",
      "\u001b[0;32m~/.local/lib/python3.8/site-packages/hop/io.py\u001b[0m in \u001b[0;36m__exit__\u001b[0;34m(self, *exc)\u001b[0m\n\u001b[1;32m    419\u001b[0m \u001b[0;34m\u001b[0m\u001b[0m\n\u001b[1;32m    420\u001b[0m     \u001b[0;32mdef\u001b[0m \u001b[0m__exit__\u001b[0m\u001b[0;34m(\u001b[0m\u001b[0mself\u001b[0m\u001b[0;34m,\u001b[0m \u001b[0;34m*\u001b[0m\u001b[0mexc\u001b[0m\u001b[0;34m)\u001b[0m\u001b[0;34m:\u001b[0m\u001b[0;34m\u001b[0m\u001b[0;34m\u001b[0m\u001b[0m\n\u001b[0;32m--> 421\u001b[0;31m         \u001b[0;32mreturn\u001b[0m \u001b[0mself\u001b[0m\u001b[0;34m.\u001b[0m\u001b[0m_producer\u001b[0m\u001b[0;34m.\u001b[0m\u001b[0m__exit__\u001b[0m\u001b[0;34m(\u001b[0m\u001b[0;34m*\u001b[0m\u001b[0mexc\u001b[0m\u001b[0;34m)\u001b[0m\u001b[0;34m\u001b[0m\u001b[0;34m\u001b[0m\u001b[0m\n\u001b[0m",
      "\u001b[0;32m~/.local/lib/python3.8/site-packages/adc/producer.py\u001b[0m in \u001b[0;36m__exit__\u001b[0;34m(self, type, value, traceback)\u001b[0m\n\u001b[1;32m     59\u001b[0m             \u001b[0mn_unsent\u001b[0m \u001b[0;34m=\u001b[0m \u001b[0mself\u001b[0m\u001b[0;34m.\u001b[0m\u001b[0mclose\u001b[0m\u001b[0;34m(\u001b[0m\u001b[0;34m)\u001b[0m\u001b[0;34m\u001b[0m\u001b[0;34m\u001b[0m\u001b[0m\n\u001b[1;32m     60\u001b[0m             \u001b[0;32mif\u001b[0m \u001b[0mn_unsent\u001b[0m \u001b[0;34m>\u001b[0m \u001b[0;36m0\u001b[0m\u001b[0;34m:\u001b[0m\u001b[0;34m\u001b[0m\u001b[0;34m\u001b[0m\u001b[0m\n\u001b[0;32m---> 61\u001b[0;31m                 \u001b[0;32mraise\u001b[0m \u001b[0mException\u001b[0m\u001b[0;34m(\u001b[0m\u001b[0;34mf\"{n_unsent} messages remain unsent, some data may have been lost!\"\u001b[0m\u001b[0;34m)\u001b[0m\u001b[0;34m\u001b[0m\u001b[0;34m\u001b[0m\u001b[0m\n\u001b[0m\u001b[1;32m     62\u001b[0m             \u001b[0;32mreturn\u001b[0m \u001b[0;32mFalse\u001b[0m\u001b[0;34m\u001b[0m\u001b[0;34m\u001b[0m\u001b[0m\n\u001b[1;32m     63\u001b[0m         \u001b[0;32mreturn\u001b[0m \u001b[0;32mFalse\u001b[0m\u001b[0;34m\u001b[0m\u001b[0;34m\u001b[0m\u001b[0m\n",
      "\u001b[0;31mException\u001b[0m: 1 messages remain unsent, some data may have been lost!"
     ]
    }
   ],
   "source": [
    "publisher.publish()"
   ]
  },
  {
   "cell_type": "markdown",
   "id": "dd35e6eb",
   "metadata": {},
   "source": [
    "---"
   ]
  },
  {
   "cell_type": "markdown",
   "id": "1f241df1",
   "metadata": {},
   "source": [
    "# Heartbeat Messages"
   ]
  },
  {
   "cell_type": "code",
   "execution_count": 30,
   "id": "10745f7e",
   "metadata": {},
   "outputs": [
    {
     "name": "stdout",
     "output_type": "stream",
     "text": [
      "Press Ctrl+C to exit\n",
      "publish() failed at 21/08/26 16:37:46\n"
     ]
    }
   ],
   "source": [
    "publisher = Publish_Heartbeat(detector='XENONnT', rate=60)"
   ]
  },
  {
   "cell_type": "code",
   "execution_count": null,
   "id": "c6730754",
   "metadata": {},
   "outputs": [],
   "source": []
  }
 ],
 "metadata": {
  "kernelspec": {
   "display_name": "Python 3",
   "language": "python",
   "name": "python3"
  },
  "language_info": {
   "codemirror_mode": {
    "name": "ipython",
    "version": 3
   },
   "file_extension": ".py",
   "mimetype": "text/x-python",
   "name": "python",
   "nbconvert_exporter": "python",
   "pygments_lexer": "ipython3",
   "version": "3.8.5"
  }
 },
 "nbformat": 4,
 "nbformat_minor": 5
}
