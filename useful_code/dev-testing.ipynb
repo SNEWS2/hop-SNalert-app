{
 "cells": [
  {
   "cell_type": "code",
   "execution_count": 2,
   "id": "f330a89f",
   "metadata": {},
   "outputs": [],
   "source": [
    "import hop, snews, sys\n",
    "from hop import Stream\n",
    "from datetime import datetime\n",
    "import time\n",
    "import snews\n",
    "from enum import Enum"
   ]
  },
  {
   "cell_type": "code",
   "execution_count": 3,
   "id": "c8a9d0a6",
   "metadata": {},
   "outputs": [],
   "source": [
    "# Stream??"
   ]
  },
  {
   "cell_type": "code",
   "execution_count": 18,
   "id": "ee6563bf",
   "metadata": {},
   "outputs": [],
   "source": [
    "exp_locations = {1:'loc SuperK',2:'loc HyperK', 3:'loc SNO+', 4:'loc KamLAND',\n",
    "                 5:'loc LVD', 6:'loc ICECUBE', 7:'loc Borexino', 8:'loc HALO_1kT', \n",
    "                 9:'loc HALO', 10:'loc NOvA', 11:'loc KM3NeT', 12:'loc Baksan', 13:'loc JUNO', \n",
    "                 14:'loc LZ', 15:'loc DUNE', 16:'loc MicroBooNe', 17:'loc SBND', 18:'loc DS_20k', \n",
    "                 19:'loc XENONnT', 20:'loc PandaX_4t'}\n",
    "\n",
    "class Experiment(Enum):\n",
    "    \"\"\" Enumerated Experiments\n",
    "\n",
    "        Notes:\n",
    "        print(Experiment.KamLAND.name)\n",
    "        > KamLAND\n",
    "        print(Experiment.KamLAND.value)\n",
    "        > 4\n",
    "    \"\"\"\n",
    "\n",
    "    Super_K, SuperK   = 1, 1\n",
    "    Hyper_K, HyperK   = 2, 2\n",
    "    SNOp,SNOplus      = 3, 3\n",
    "    KamLAND   = 4\n",
    "    LVD       = 5\n",
    "    ICE, IceCube      = 6, 6\n",
    "    Borexino  = 7\n",
    "    HALO_1kT, HALO1kT  = 8, 8\n",
    "    HALO      = 9\n",
    "    NOvA      = 10\n",
    "    KM3NeT    = 11\n",
    "    Baksan    = 12\n",
    "    JUNO      = 13\n",
    "    LZ        = 14\n",
    "    DUNE      = 15\n",
    "    MicroBooNe= 16\n",
    "    SBND      = 17\n",
    "    DS_20K, DS20K    = 18, 18\n",
    "    XENONnT   = 19\n",
    "    PandaX_4T, PandaX4T = 20, 20\n",
    "\n",
    "class Publish:\n",
    "    \"\"\" Class to format and publish messages\n",
    "    \"\"\"\n",
    "    def __init__(self, message=dict(), experiment=None):\n",
    "        self.set_experiment_properties_(experiment)\n",
    "        self.publish_to = {'Significance_Tier':True, 'Coincidence_Tier':True, 'Timing_Tier':True}\n",
    "        self.msg_dict   = self.default_dict()\n",
    "        self.format_message_(message)\n",
    "        \n",
    "        self.common_keys_ = ['detector_id','machine_time','neutrino_time','status']\n",
    "        self.tier_keys_   = {'Significance_Tier':self.common_keys_ + ['p_value'],\n",
    "                             'Coincidence_Tier':self.common_keys_,\n",
    "                             'Timing_Tier':self.common_keys_ + ['time-series']}\n",
    "        self.broker            = \"kafka.scimma.org\"\n",
    "        self.observation_topic = f\"kafka://{self.broker}/snews.experiments-test\"\n",
    "        self.alert_topic       = f\"kafka://{self.broker}/snews.alert-test\"\n",
    "        self.heartbeat_topic   = f\"kafka://{self.broker}/snews.testing\" # should the HB pub to alert?\n",
    "        self.__version__ = \"0.0.2\"\n",
    "\n",
    "        \n",
    "    def set_experiment_properties_(self, experiment):\n",
    "        \"\"\" Sets the experiment-specific properties\n",
    "        \"\"\"\n",
    "        if type(experiment)==type(None):\n",
    "            self.exp_name = 'Not Specified'\n",
    "            self.exp_id = -999\n",
    "            self.exp_loc = 'Not Specified'\n",
    "        else:\n",
    "            self.exp_name = experiment.name\n",
    "            self.exp_id   = experiment.value\n",
    "            self.exp_loc  = exp_locations[self.exp_id]\n",
    "\n",
    "            \n",
    "    def time_str(self):\n",
    "        \"\"\" Returns datetime object for current time \n",
    "            year/month/day hr:min:sec (UTC)\n",
    "        \"\"\"\n",
    "        return datetime.now().utcnow().strftime(\"%y/%m/%d %H:%M:%S\")\n",
    "\n",
    "\n",
    "    def default_dict(self):\n",
    "        \"\"\" Returns the default dictionary\n",
    "            with all entries being 'none'\n",
    "        \"\"\"\n",
    "        return {\"message_id\": 0, \n",
    "                \"detector_id\": self.exp_id, \n",
    "                \"sent_time\": self.time_str(), \n",
    "                \"neutrino_time\": \"01/01/01 01:01:01\", \n",
    "                \"machine_time\": \"01/01/01 01:01:01\", \n",
    "                \"location\": self.exp_loc, \n",
    "                \"p_value\": 0, \n",
    "                \"status\": \"none\", \n",
    "                \"content\": \"none\",\n",
    "                \"time-series\":0}\n",
    "\n",
    "\n",
    "    def format_message_(self, message):\n",
    "        \"\"\" Format the message\n",
    "        \"\"\"\n",
    "        if isinstance(message,dict):\n",
    "            # overwrite default ones, add new ones, keep missing ones\n",
    "            self.msg_dict = {**self.msg_dict, **message}\n",
    "        if isinstance(message,list):\n",
    "            pass\n",
    "\n",
    "\n",
    "    def publish_to_tiers(self):                             # TODO: check tiers, combine keys\n",
    "        \"\"\" Publish messages to the indicated streams       # Submit one message containing all\n",
    "        \"\"\"\n",
    "        for tier, flag in self.publish_to.items():\n",
    "            if flag:\n",
    "                # if publish_to:tier is True\n",
    "                # select the relevant keys\n",
    "                tier_data = {x:self.msg_dict[x] for x in self.tier_keys_[tier]}\n",
    "                stream = Stream(persist=False)\n",
    "                with stream.open(self.observation_topic, \"w\") as s:\n",
    "                    s.write(tier_data)\n",
    "                print(f\"\\nPublishing OBS message to {tier}:\")\n",
    "                for k,v in tier_data.items():\n",
    "                      print(f'{k:<20s}:{v}')\n",
    "                        \n",
    "                    \n",
    "    def display_message(self):\n",
    "        \"\"\" Display the mesagge without publishing\n",
    "        \"\"\"\n",
    "        print(f\"Following OBS message to be published:\\n{self.time_str()}\\n\")\n",
    "        for k,v in self.msg_dict.items():\n",
    "              print(f'{k:<20s}:{v}')\n",
    "        print(f\"\\n> modify self.msg_dict or \\n> use .publish_to_tiers() method to publish (see .publish_to)\")\n",
    "\n",
    "\n",
    "class Publish_Observation(Publish):\n",
    "    \"\"\" Class to publish observation messages\n",
    "    \"\"\"\n",
    "    def __init__(self, msg=dict(), experiment=None, welcome=False):\n",
    "        super().__init__(msg, experiment=experiment)\n",
    "        if welcome: self.summarize()\n",
    "        \n",
    "    def summarize(self):\n",
    "        \"\"\" Summarize the current configuration\n",
    "        \"\"\"\n",
    "        header = f'\\n ### Publish SNEWS Observation Messages ###\\n'\n",
    "        exp_str = ''\n",
    "        if self.exp_id != -999: exp_str=f'#{self.exp_name:_^40}#\\n'\n",
    "        versions = f'Your Python version:{sys.version}\\n'+\\\n",
    "        f'Current hop-client version:{hop.__version__}\\n'+\\\n",
    "        f'             snews version:{snews.__version__}\\n\\n'\n",
    "        topic_info = f'Publishing to {self.broker}\\n'+\\\n",
    "        f' Observation Topic: {self.observation_topic}\\n\\n'\n",
    "        tier_info = f'> Submitting messages to the following Tiers;\\n'+\\\n",
    "        f'{\" & \".join([tier for tier in self.publish_to.keys() if self.publish_to[tier]==True])}\\n'\n",
    "        f'See self.publish_to to change\\n'\n",
    "        print(header,exp_str,versions,topic_info, tier_info)\n",
    "    \n",
    "    \n",
    "    def publish(self):\n",
    "        \"\"\" Publish the current message\n",
    "        \"\"\"\n",
    "        stream = Stream(persist=False)\n",
    "        with stream.open(self.observation_topic, \"w\") as s:\n",
    "            s.write(self.msg_dict)\n",
    "        print(f\"\\nPublished OBS message to {self.observation_topic}:\")\n",
    "        for k,v in self.msg_dict.items():\n",
    "            print(f'{k:<20s}:{v}')\n",
    "    \n",
    "    \n",
    "class Publish_Heartbeat(Publish):\n",
    "    \"\"\" Class to publish hearbeat messages continuously\n",
    "    \"\"\"\n",
    "    def __init__(self, msg=dict(), experiment=None,):\n",
    "        super().__init__(msg, experiment)\n",
    "        self.rate = 60     # seconds            \n",
    "     \n",
    "    def retrieve_status(self):\n",
    "        \"\"\" Script to retrieve detector status\n",
    "        \"\"\"\n",
    "        import numpy as np\n",
    "        return np.random.choice(['ON','OFF'])\n",
    "    \n",
    "    # TODO: needs to run continously in background\n",
    "    # until stopped\n",
    "    def publish(self):\n",
    "        \"\"\" Publish the current message\n",
    "        \"\"\"\n",
    "        heartbeat_message = self.msg_dict\n",
    "        heartbeat_message['status'] = self.retrieve_status()\n",
    "        heartbeat_message['sent_time'] = self.time_str()\n",
    "        stream = Stream(persist=True)\n",
    "        try:\n",
    "            with stream.open(self.observation_topic, \"w\") as s:\n",
    "                s.write(heartbeat_message)\n",
    "            print(f\"\\nPublished the Heartbeat message to {self.observation_topic}:\")\n",
    "            for k,v in heartbeat_message.items():\n",
    "                print(f'{k:<20s}:{v}')\n",
    "        except:\n",
    "            print(f'publish() failed at {self.time_str()}')\n",
    "            \n",
    "            \n",
    "    # NEEDS WORK\n",
    "    def background_schedule(self):\n",
    "        from apscheduler.schedulers.background import BackgroundScheduler\n",
    "        import os \n",
    "\n",
    "        def tick():\n",
    "            print('Tick! The time is: %s' % datetime.now())\n",
    "\n",
    "        scheduler = BackgroundScheduler()\n",
    "#         scheduler.add_job(tick, 'interval', seconds=30)\n",
    "        scheduler.add_job(self.publish, 'interval', seconds=10)\n",
    "        scheduler.start()\n",
    "        print('Press Ctrl+{0} to exit'.format('Break' if os.name == 'nt' else 'C'))\n",
    "        try:\n",
    "            # This is here to simulate application activity (which keeps the main thread alive).\n",
    "            while True:\n",
    "                time.sleep(1)\n",
    "        except (KeyboardInterrupt, SystemExit):\n",
    "            # Not strictly necessary if daemonic mode is enabled but should be done if possible\n",
    "            scheduler.shutdown()"
   ]
  },
  {
   "cell_type": "code",
   "execution_count": 19,
   "id": "da1d8fcc",
   "metadata": {},
   "outputs": [
    {
     "name": "stdout",
     "output_type": "stream",
     "text": [
      "\n",
      " ### Publish SNEWS Observation Messages ###\n",
      " #________________Super_K_________________#\n",
      " Your Python version:3.8.5 (default, Jan 27 2021, 15:41:15) \n",
      "[GCC 9.3.0]\n",
      "Current hop-client version:0.4.0\n",
      "             snews version:0.0.1\n",
      "\n",
      " Publishing to kafka.scimma.org\n",
      " Observation Topic: kafka://kafka.scimma.org/snews.experiments-test\n",
      "\n",
      " > Submitting messages to the following Tiers;\n",
      "Significance_Tier & Coincidence_Tier & Timing_Tier\n",
      "\n"
     ]
    }
   ],
   "source": [
    "us = Experiment.SuperK\n",
    "publisher = Publish_Observation(experiment=us, welcome=True)"
   ]
  },
  {
   "cell_type": "code",
   "execution_count": 12,
   "id": "e4d76090",
   "metadata": {},
   "outputs": [
    {
     "name": "stdout",
     "output_type": "stream",
     "text": [
      "Following OBS message to be published:\n",
      "21/08/25 16:19:12\n",
      "\n",
      "message_id          :0\n",
      "detector_id         :1\n",
      "sent_time           :21/08/25 16:19:10\n",
      "neutrino_time       :01/01/01 01:01:01\n",
      "machine_time        :01/01/01 01:01:01\n",
      "location            :loc SuperK\n",
      "p_value             :0\n",
      "status              :none\n",
      "content             :none\n",
      "time-series         :0\n",
      "\n",
      "> modify self.msg_dict or \n",
      "> use .publish_to_tiers() method to publish (see .publish_to)\n"
     ]
    }
   ],
   "source": [
    "publisher.display_message()"
   ]
  },
  {
   "cell_type": "code",
   "execution_count": 13,
   "id": "fb2addc2",
   "metadata": {},
   "outputs": [
    {
     "name": "stdout",
     "output_type": "stream",
     "text": [
      "{'Significance_Tier': True, 'Coincidence_Tier': True, 'Timing_Tier': True}\n",
      "{'Significance_Tier': True, 'Coincidence_Tier': True, 'Timing_Tier': False}\n"
     ]
    }
   ],
   "source": [
    "print(publisher.publish_to)\n",
    "publisher.publish_to['Timing_Tier'] = False\n",
    "print(publisher.publish_to)\n",
    "# publisher.publish_to_tiers() # might fail"
   ]
  },
  {
   "cell_type": "code",
   "execution_count": 15,
   "id": "99ba4479",
   "metadata": {},
   "outputs": [
    {
     "name": "stdout",
     "output_type": "stream",
     "text": [
      "\n",
      "Published OBS message to kafka://kafka.scimma.org/snews.experiments-test:\n",
      "message_id          :0\n",
      "detector_id         :1\n",
      "sent_time           :21/08/25 16:19:10\n",
      "neutrino_time       :01/01/01 01:01:01\n",
      "machine_time        :01/01/01 01:01:01\n",
      "location            :loc SuperK\n",
      "p_value             :0\n",
      "status              :none\n",
      "content             :none\n",
      "time-series         :0\n"
     ]
    }
   ],
   "source": [
    "publisher.publish()"
   ]
  },
  {
   "cell_type": "markdown",
   "id": "dd35e6eb",
   "metadata": {},
   "source": [
    "---"
   ]
  },
  {
   "cell_type": "code",
   "execution_count": 20,
   "id": "10745f7e",
   "metadata": {},
   "outputs": [],
   "source": [
    "publisher = Publish_Heartbeat(experiment=us)"
   ]
  },
  {
   "cell_type": "code",
   "execution_count": 21,
   "id": "15e8ce42",
   "metadata": {},
   "outputs": [
    {
     "name": "stdout",
     "output_type": "stream",
     "text": [
      "Press Ctrl+C to exit\n",
      "\n",
      "Published the Heartbeat message to kafka://kafka.scimma.org/snews.experiments-test:\n",
      "message_id          :0\n",
      "detector_id         :1\n",
      "sent_time           :21/08/25 16:20:16\n",
      "neutrino_time       :01/01/01 01:01:01\n",
      "machine_time        :01/01/01 01:01:01\n",
      "location            :loc SuperK\n",
      "p_value             :0\n",
      "status              :ON\n",
      "content             :none\n",
      "time-series         :0\n"
     ]
    },
    {
     "name": "stderr",
     "output_type": "stream",
     "text": [
      "Execution of job \"Publish_Heartbeat.publish (trigger: interval[0:00:10], next run at: 2021-08-25 18:20:36 CEST)\" skipped: maximum number of running instances reached (1)\n"
     ]
    },
    {
     "name": "stdout",
     "output_type": "stream",
     "text": [
      "publish() failed at 21/08/25 16:20:37\n"
     ]
    },
    {
     "name": "stderr",
     "output_type": "stream",
     "text": [
      "Execution of job \"Publish_Heartbeat.publish (trigger: interval[0:00:10], next run at: 2021-08-25 18:20:56 CEST)\" skipped: maximum number of running instances reached (1)\n"
     ]
    },
    {
     "name": "stdout",
     "output_type": "stream",
     "text": [
      "publish() failed at 21/08/25 16:20:57\n",
      "\n",
      "Published the Heartbeat message to kafka://kafka.scimma.org/snews.experiments-test:\n",
      "message_id          :0\n",
      "detector_id         :1\n",
      "sent_time           :21/08/25 16:21:06\n",
      "neutrino_time       :01/01/01 01:01:01\n",
      "machine_time        :01/01/01 01:01:01\n",
      "location            :loc SuperK\n",
      "p_value             :0\n",
      "status              :ON\n",
      "content             :none\n",
      "time-series         :0\n"
     ]
    }
   ],
   "source": [
    "publisher.background_schedule()"
   ]
  },
  {
   "cell_type": "code",
   "execution_count": null,
   "id": "e87e2ed1",
   "metadata": {},
   "outputs": [],
   "source": []
  }
 ],
 "metadata": {
  "kernelspec": {
   "display_name": "Python 3",
   "language": "python",
   "name": "python3"
  },
  "language_info": {
   "codemirror_mode": {
    "name": "ipython",
    "version": 3
   },
   "file_extension": ".py",
   "mimetype": "text/x-python",
   "name": "python",
   "nbconvert_exporter": "python",
   "pygments_lexer": "ipython3",
   "version": "3.8.5"
  }
 },
 "nbformat": 4,
 "nbformat_minor": 5
}
