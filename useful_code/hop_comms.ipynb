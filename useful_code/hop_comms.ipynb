{
 "cells": [
  {
   "cell_type": "code",
   "execution_count": null,
   "id": "tribal-taylor",
   "metadata": {},
   "outputs": [],
   "source": [
    "from ipyparallel import Client\n",
    "rc = Client()"
   ]
  },
  {
   "cell_type": "markdown",
   "id": "japanese-bryan",
   "metadata": {},
   "source": [
    "Tutorial for ipyparallel : https://ipython-books.github.io/59-distributing-python-code-across-multiple-cores-with-ipython/"
   ]
  },
  {
   "cell_type": "code",
   "execution_count": null,
   "id": "thirty-central",
   "metadata": {},
   "outputs": [],
   "source": [
    "%%px -a -t 3\n",
    "\n",
    "import hop_sub\n",
    "hop_sub.sub_alrt()"
   ]
  },
  {
   "cell_type": "code",
   "execution_count": null,
   "id": "valuable-plain",
   "metadata": {},
   "outputs": [],
   "source": [
    "# %%px -a -t 0\n",
    "# # SNEWS only\n",
    "# import hop_sub\n",
    "\n",
    "# hop_sub.sub_obs()"
   ]
  },
  {
   "cell_type": "markdown",
   "id": "severe-medicaid",
   "metadata": {},
   "source": [
    "-------------------"
   ]
  },
  {
   "cell_type": "code",
   "execution_count": null,
   "id": "generic-river",
   "metadata": {},
   "outputs": [],
   "source": [
    "import hop_pub"
   ]
  },
  {
   "cell_type": "code",
   "execution_count": null,
   "id": "suffering-declaration",
   "metadata": {},
   "outputs": [],
   "source": [
    "hop_pub.pub_test('A')"
   ]
  },
  {
   "cell_type": "code",
   "execution_count": null,
   "id": "alive-verse",
   "metadata": {},
   "outputs": [],
   "source": [
    "hop_pub.pub_ccd_tier('A')"
   ]
  },
  {
   "cell_type": "code",
   "execution_count": null,
   "id": "paperback-mortgage",
   "metadata": {},
   "outputs": [],
   "source": [
    "hop_pub.pub_sig_tier('A')"
   ]
  },
  {
   "cell_type": "code",
   "execution_count": null,
   "id": "precious-teach",
   "metadata": {},
   "outputs": [],
   "source": [
    "hop_pub.pub_t_tier('A')"
   ]
  }
 ],
 "metadata": {
  "kernelspec": {
   "display_name": "Python 3",
   "language": "python",
   "name": "python3"
  },
  "language_info": {
   "codemirror_mode": {
    "name": "ipython",
    "version": 3
   },
   "file_extension": ".py",
   "mimetype": "text/x-python",
   "name": "python",
   "nbconvert_exporter": "python",
   "pygments_lexer": "ipython3",
   "version": "3.8.8"
  }
 },
 "nbformat": 4,
 "nbformat_minor": 5
}
